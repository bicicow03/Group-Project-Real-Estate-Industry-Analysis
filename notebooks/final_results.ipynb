{
 "cells": [
  {
   "cell_type": "code",
   "execution_count": null,
   "id": "7a5202e9",
   "metadata": {},
   "outputs": [],
   "source": [
    "import pandas as pd\n",
    "import folium\n",
    "import geopandas as gpd\n",
    "from matplotlib import cm, colors\n",
    "from sklearn.preprocessing import MinMaxScaler\n",
    "import matplotlib.cm as cm\n",
    "import matplotlib.colors as colors\n",
    "import numpy as np"
   ]
  },
  {
   "cell_type": "markdown",
   "id": "fe56e19e",
   "metadata": {},
   "source": [
    "Heat map of:\n",
    "- Bedroom distribution\n",
    "- Bathroom distribution\n",
    "- Liveable distribution\n",
    "- Affordable distribution\n",
    "- Growth distribution"
   ]
  },
  {
   "cell_type": "code",
   "execution_count": null,
   "id": "601d1e67",
   "metadata": {},
   "outputs": [],
   "source": [
    "MOST_IMPORTANT_FEATURES = ['bathrooms', 'bedrooms']\n",
    "\n",
    "MOST_LIVEABLE = {'CANTEBURY': 3126, 'HAWTHORN EAST': 3123, 'ST KILDA EAST': 3183, 'BALACLAVA': 3183, 'CAULFIELD SOUTH': 3162, \n",
    "                'CAULFIELD': 3162, 'FITZROY NORTH': 3068, 'CLIFTON HILL': 3068, 'ELSTERNWICK': 3185, 'RIPPONLEA': 3185} # Clifton hill 3066, 3067, 3068\n",
    "\n",
    "MOST_AFFORDABLE = {'NYORA': 3987, 'ST ANDREWS': 3761, 'STRATHMERTON': 3641, 'BELGRAVE': 3160, 'GORDON': 3345, 'WHOROULY': 3735, \n",
    "                    'NEW GISBOURNE': 3438, 'SHELFORD': 3329, 'SILVAN': 3795, 'ALPHINGTON': 3078}\n",
    "\n",
    "MOST_GROWTH = {'MILDURA': 3500, 'SEAFORD-CARRUM DOWNS': 3201, 'BERWICK': 3806, 'SHEPPARTON': 3630, 'CRANBOURNE': 3977}\n"
   ]
  },
  {
   "cell_type": "markdown",
   "id": "ef4a64d5",
   "metadata": {},
   "source": [
    "Listings"
   ]
  },
  {
   "cell_type": "code",
   "execution_count": null,
   "id": "0300982d",
   "metadata": {},
   "outputs": [],
   "source": [
    "listings = pd.read_csv('../data/curated/cleaned_real_estate_data.csv')\n",
    "listings = listings[['postcode', 'weekly_rent'] + MOST_IMPORTANT_FEATURES + ['lat', 'lon']]\n",
    "listings[\"rooms\"] = listings[\"bathrooms\"] + listings[\"bedrooms\"]\n",
    "scaler = MinMaxScaler()\n",
    "scaled = scaler.fit_transform(listings[[\"rooms\"]])\n",
    "listings[\"rooms_rank\"] = scaled + 0.3\n",
    "listings"
   ]
  },
  {
   "cell_type": "markdown",
   "id": "e061e06c",
   "metadata": {},
   "source": [
    "Liveability and affordability"
   ]
  },
  {
   "cell_type": "code",
   "execution_count": null,
   "id": "2d95e92a",
   "metadata": {},
   "outputs": [],
   "source": [
    "postcode_la = pd.read_csv('../data/outputs/postcode_livability_affordability.csv')\n",
    "postcode_la = postcode_la[['postcode', 'livability_score', 'affordability_score', 'lat', 'lon']]\n",
    "postcode_la['livability_score'] = MinMaxScaler().fit_transform(postcode_la[['livability_score']])\n",
    "postcode_la['affordability_score'] = MinMaxScaler().fit_transform(postcode_la[['affordability_score']])\n",
    "\n",
    "postcode_la['livability_rank'] = postcode_la['livability_score'].rank(ascending=False)\n",
    "postcode_la['affordability_rank'] = postcode_la['affordability_score'].rank(ascending=False)\n",
    "\n",
    "postcode_la['livability_rank_scaled'] = 1 - MinMaxScaler().fit_transform(postcode_la[['livability_rank']])\n",
    "postcode_la['affordability_rank_scaled'] = 1 - MinMaxScaler().fit_transform(postcode_la[['affordability_rank']])\n",
    "\n",
    "# postcode_la['merged_score'] = 0.75*postcode_la['livability_score'] + 0.25*postcode_la['affordability_score'] # most of affordable is rural anyway so weight less\n",
    "# postcode_la['merged_rank'] = postcode_la['merged_score'].rank(ascending=False)\n",
    "\n",
    "# scaler = MinMaxScaler()\n",
    "# scaled = scaler.fit_transform(postcode_la[['merged_rank']])\n",
    "# postcode_la['merged_rank_scaled'] = 1 - scaled\n",
    "postcode_la"
   ]
  },
  {
   "cell_type": "markdown",
   "id": "b588ef0a",
   "metadata": {},
   "source": [
    "Growth"
   ]
  },
  {
   "cell_type": "code",
   "execution_count": null,
   "id": "0208ee46",
   "metadata": {},
   "outputs": [],
   "source": [
    "suburb_growth = pd.read_csv('../data/outputs/overall_growth.csv').drop(columns=['Unnamed: 0']).rename(columns={'Suburb': 'suburb'})\n",
    "growth_loc = pd.read_csv('../data/raw/growth_suburbs_latlon.csv')\n",
    "\n",
    "\n",
    "suburb_growth = suburb_growth[suburb_growth['suburb'] != \"AVERAGE\"]\n",
    "suburb_growth = suburb_growth.merge(growth_loc, on='suburb', how='left')\n",
    "suburb_growth['price_change_std'] = MinMaxScaler().fit_transform(suburb_growth[['Price_change (%)']])\n",
    "\n",
    "suburb_growth[\"growth_rank\"] = suburb_growth[\"Price_change (%)\"].rank(ascending=False)\n",
    "scaler = MinMaxScaler()\n",
    "scaled = scaler.fit_transform(suburb_growth[[\"growth_rank\"]])\n",
    "suburb_growth[\"growth_rank_scaled\"] = 1 - scaled\n",
    "\n",
    "suburb_growth"
   ]
  },
  {
   "cell_type": "markdown",
   "id": "0cdcf8bf",
   "metadata": {},
   "source": [
    "Building geovisualisation"
   ]
  },
  {
   "cell_type": "code",
   "execution_count": null,
   "id": "920f8a74",
   "metadata": {},
   "outputs": [],
   "source": [
    "agg = postcode_la"
   ]
  },
  {
   "cell_type": "code",
   "execution_count": null,
   "id": "963fbc30",
   "metadata": {},
   "outputs": [],
   "source": [
    "# Convert to GeoDataFrame\n",
    "agg_gdf = gpd.GeoDataFrame(\n",
    "    agg,\n",
    "    geometry=gpd.points_from_xy(agg['lon'], agg['lat']),\n",
    "    crs=\"EPSG:4326\"\n",
    ")\n",
    "\n",
    "listings_gdf = gpd.GeoDataFrame(\n",
    "    listings,\n",
    "    geometry=gpd.points_from_xy(listings['lon'], listings['lat']),\n",
    "    crs=\"EPSG:4326\"\n",
    ")\n",
    "\n",
    "growth_gdf = gpd.GeoDataFrame(\n",
    "    suburb_growth,\n",
    "    geometry=gpd.points_from_xy(suburb_growth['lon'], suburb_growth['lat']),\n",
    "    crs=\"EPSG:4326\"\n",
    ")\n"
   ]
  },
  {
   "cell_type": "code",
   "execution_count": null,
   "id": "45796c9e",
   "metadata": {},
   "outputs": [],
   "source": [
    "import folium\n",
    "from matplotlib import cm, colors\n",
    "import numpy as np\n",
    "from shapely.geometry import shape\n",
    "\n",
    "def create_polygon_heatmap_layer(\n",
    "    polygons_gdf,         # GeoDataFrame with polygon geometries\n",
    "    points_gdf=None,      # Optional: points to aggregate inside polygons (spatial join)\n",
    "    layer_name=\"Heatmap\",\n",
    "    color_col=None,       # Column in polygons_gdf to color by (if no points_gdf)\n",
    "    agg_func=np.mean,     # Aggregation function if points_gdf is used\n",
    "    colormap_name=\"YlGn\",\n",
    "    tooltip_cols=None\n",
    "):\n",
    "    \"\"\"\n",
    "    Creates a Folium FeatureGroup for polygon heatmaps.\n",
    "    \n",
    "    If points_gdf is provided, color each polygon by aggregating values of points inside it.\n",
    "    Otherwise, use the column color_col in polygons_gdf.\n",
    "    \"\"\"\n",
    "    layer = folium.FeatureGroup(name=layer_name, show=True)\n",
    "    cmap = cm.get_cmap(colormap_name)\n",
    "\n",
    "    for _, poly_row in polygons_gdf.iterrows():\n",
    "        # Determine value to color by\n",
    "        if points_gdf is not None:\n",
    "            points_inside = points_gdf[points_gdf.geometry.within(poly_row.geometry)]\n",
    "            if points_inside.empty:\n",
    "                value = np.nan\n",
    "            else:\n",
    "                value = agg_func(points_inside[color_col])\n",
    "        else:\n",
    "            value = poly_row[color_col] if color_col in poly_row else np.nan\n",
    "\n",
    "        # Style dictionary\n",
    "        if np.isnan(value):\n",
    "            style = {'fillOpacity': 0, 'weight': 0.5, 'color': 'grey'}\n",
    "        else:\n",
    "            style = {\n",
    "                'fillColor': colors.to_hex(cmap(value)),\n",
    "                'color': 'black',\n",
    "                'weight': 0.5,\n",
    "                'fillOpacity': 0.7\n",
    "            }\n",
    "\n",
    "        # Tooltip\n",
    "        tooltip_html = \"\"\n",
    "        if tooltip_cols:\n",
    "            tooltip_html = \"<br>\".join([f\"{col}: {poly_row[col]}\" for col in tooltip_cols])\n",
    "\n",
    "        folium.GeoJson(\n",
    "            poly_row.geometry,\n",
    "            style_function=lambda x, s=style: s,\n",
    "            tooltip=tooltip_html\n",
    "        ).add_to(layer)\n",
    "\n",
    "    return layer"
   ]
  },
  {
   "cell_type": "code",
   "execution_count": null,
   "id": "2bfb831d",
   "metadata": {},
   "outputs": [],
   "source": [
    "postcode_gdf = gpd.read_file('../data/raw/SA2_2021_AUST_SHP_GDA2020/SA2_2021_AUST_GDA2020.shp')"
   ]
  },
  {
   "cell_type": "code",
   "execution_count": null,
   "id": "3708b909",
   "metadata": {},
   "outputs": [],
   "source": [
    "postcode_gdf = postcode_gdf[postcode_gdf.geometry.notnull() & postcode_gdf.is_valid]\n",
    "agg_gdf = agg_gdf[agg_gdf.geometry.notnull() & agg_gdf.is_valid]\n",
    "listings_gdf = listings_gdf[listings_gdf.geometry.notnull() & listings_gdf.is_valid]\n",
    "growth_gdf = growth_gdf[growth_gdf.geometry.notnull() & growth_gdf.is_valid]"
   ]
  },
  {
   "cell_type": "code",
   "execution_count": null,
   "id": "a724c260",
   "metadata": {},
   "outputs": [],
   "source": [
    "# Create map centered on Victoria\n",
    "vic_center = [listings['lat'].mean(), listings['lon'].mean()]\n",
    "m = folium.Map(location=vic_center, zoom_start=8, tiles='cartodbpositron')"
   ]
  },
  {
   "cell_type": "code",
   "execution_count": null,
   "id": "61424772",
   "metadata": {},
   "outputs": [],
   "source": [
    "# Add SA2 boundaries\n",
    "folium.GeoJson(\n",
    "    postcode_gdf,\n",
    "    name='SA2 Boundaries',\n",
    "    style_function=lambda feature: {\n",
    "        'fillColor': 'none',   # transparent fill\n",
    "        'color': 'black',        # boundary color\n",
    "        'weight': 1,\n",
    "        'dashArray': '2, 2',\n",
    "        'opacity': 0.6\n",
    "    },\n",
    "    tooltip=folium.GeoJsonTooltip(fields=['SA2_NAME21'], aliases=['SA2:'])\n",
    ").add_to(m)"
   ]
  },
  {
   "cell_type": "code",
   "execution_count": null,
   "id": "b42b05b6",
   "metadata": {},
   "outputs": [],
   "source": [
    "# Layer: Bathrooms + Bedrooms (Red)\n",
    "room_layer = folium.FeatureGroup(name='Bathrooms and Bedrooms (Red)', show=True)\n",
    "\n",
    "for _, row in listings.iterrows():\n",
    "    folium.CircleMarker(\n",
    "        location=[row['lat'], row['lon']],\n",
    "        radius=row[\"rooms_rank\"] * 1.5,\n",
    "        color=None,\n",
    "        fill=True,\n",
    "        fill_color='rgba(255, 0, 0, 0.4)',\n",
    "        fill_opacity=0.4\n",
    "    ).add_to(room_layer)"
   ]
  },
  {
   "cell_type": "code",
   "execution_count": null,
   "id": "ffcc00e1",
   "metadata": {},
   "outputs": [],
   "source": [
    "# Layer: Forecasted Growth (Purple)\n",
    "growth_layer = folium.FeatureGroup(name='Forecasted Growth (Purple)', show=True)\n",
    "cmap_merged = cm.get_cmap('Purples')\n",
    "for _, row in suburb_growth.iterrows():\n",
    "    hexcol = colors.to_hex(cmap_merged(row['price_change_std']))\n",
    "    folium.CircleMarker(\n",
    "        location=[row['lat'], row['lon']],\n",
    "        radius=(row['growth_rank_scaled'] + 0.3) * 10,\n",
    "        fill=True,\n",
    "        fill_color=hexcol,\n",
    "        fill_opacity=row['growth_rank_scaled'],\n",
    "        color=None,\n",
    "        tooltip=f\"Location: {row['suburb']}<br>Price Change (%): {row['Price_change (%)']:.3f}<br>Rank: {int(row['growth_rank'])}\"\n",
    "    ).add_to(growth_layer)"
   ]
  },
  {
   "cell_type": "code",
   "execution_count": null,
   "id": "cc4978f2",
   "metadata": {},
   "outputs": [],
   "source": [
    "# # Layer: Merged Livability & Affordability (Green)\n",
    "# merged_layer = folium.FeatureGroup(name='Livability & Affordability (Green)', show=True)\n",
    "# cmap_merged = cm.get_cmap('YlGn')\n",
    "\n",
    "# for _, row in agg.iterrows():\n",
    "#     hexcol = colors.to_hex(cmap_merged(row['merged_score']))\n",
    "#     folium.CircleMarker(\n",
    "#         location=[row['lat'], row['lon']],\n",
    "#         radius=(row['merged_rank_scaled'] + 0.3) * 5,\n",
    "#         fill=True,\n",
    "#         fill_color=hexcol,\n",
    "#         fill_opacity=row['merged_rank_scaled'],\n",
    "#         color=None,\n",
    "#         tooltip=f\"Postcode: {row['postcode']}<br>Liveability and Affordability Index: {row['merged_score']:.3f}<br>Rank: {int(row['merged_rank'])}\"\n",
    "#     ).add_to(merged_layer)"
   ]
  },
  {
   "cell_type": "code",
   "execution_count": null,
   "id": "4b453ec4",
   "metadata": {},
   "outputs": [],
   "source": [
    "# Layer: Livability (Blue)\n",
    "livability_layer = folium.FeatureGroup(name='Livability (Blue)', show=True)\n",
    "cmap_merged = cm.get_cmap('Blues')\n",
    "\n",
    "for _, row in agg.iterrows():\n",
    "    hexcol = colors.to_hex(cmap_merged(row['livability_score']))\n",
    "    folium.CircleMarker(\n",
    "        location=[row['lat'], row['lon']],\n",
    "        radius=(row['livability_rank_scaled'] + 0.3) * 5,\n",
    "        fill=True,\n",
    "        fill_color=hexcol,\n",
    "        fill_opacity=row['livability_rank_scaled'],\n",
    "        color=None,\n",
    "        tooltip=f\"Postcode: {row['postcode']}<br>Liveability Index: {row['livability_score']:.3f}<br>Rank: {int(row['livability_rank'])}\"\n",
    "    ).add_to(livability_layer)"
   ]
  },
  {
   "cell_type": "code",
   "execution_count": null,
   "id": "92c6b829",
   "metadata": {},
   "outputs": [],
   "source": [
    "# Layer: Affordability (Green)\n",
    "affordability_layer = folium.FeatureGroup(name='Affordability (Green)', show=True)\n",
    "cmap_merged = cm.get_cmap('Greens')\n",
    "\n",
    "for _, row in agg.iterrows():\n",
    "    hexcol = colors.to_hex(cmap_merged(row['affordability_score']))\n",
    "    folium.CircleMarker(\n",
    "        location=[row['lat'], row['lon']],\n",
    "        radius=(row['affordability_rank_scaled'] + 0.3) * 5,\n",
    "        fill=True,\n",
    "        fill_color=hexcol,\n",
    "        fill_opacity=row['affordability_rank_scaled'],\n",
    "        color=None,\n",
    "        tooltip=f\"Postcode: {row['postcode']}<br>Affordability Index: {row['affordability_score']:.3f}<br>Rank: {int(row['affordability_rank'])}\"\n",
    "    ).add_to(affordability_layer)"
   ]
  },
  {
   "cell_type": "code",
   "execution_count": null,
   "id": "fea41a5f",
   "metadata": {},
   "outputs": [],
   "source": [
    "# # Layer: Merged Livability & Affordability (Green)\n",
    "# merged_layer = create_polygon_heatmap_layer(\n",
    "#     polygons_gdf=postcode_gdf,\n",
    "#     points_gdf=agg_gdf,\n",
    "#     layer_name=\"Livability & Affordability (Green)\",\n",
    "#     color_col=\"merged_score\",\n",
    "#     agg_func=np.mean,\n",
    "#     colormap_name=\"YlGn\",\n",
    "#     tooltip={\n",
    "#         'postcode': 'Postcode',\n",
    "#         'merged_score': 'Liveability & Affordability Index',\n",
    "#         'merged_rank': 'Rank'\n",
    "#     }\n",
    "# )"
   ]
  },
  {
   "cell_type": "code",
   "execution_count": null,
   "id": "9065c3ef",
   "metadata": {},
   "outputs": [],
   "source": [
    "# # Layer: Forecasted Growth (Blue)\n",
    "# growth_layer = create_polygon_heatmap_layer(\n",
    "#     polygons_gdf=growth_gdf,\n",
    "#     points_gdf=listings_gdf,\n",
    "#     layer_name=\"Forecasted Growth (Blue)\",\n",
    "#     color_col=\"price_change_std\",\n",
    "#     agg_func=np.mean,\n",
    "#     colormap_name=\"Blues\",\n",
    "#     tooltip={\n",
    "#         'suburb': 'Location',\n",
    "#         'Price_change (%)': 'Price Change (%)',\n",
    "#         'growth_rank': 'Rank'\n",
    "#     }\n",
    "# )"
   ]
  },
  {
   "cell_type": "code",
   "execution_count": null,
   "id": "ae44daaf",
   "metadata": {},
   "outputs": [],
   "source": [
    "# # Layer: Bathrooms (red)\n",
    "# offset = 0.0001  # small offset to avoid overlap\n",
    "# bathroom_layer = folium.FeatureGroup(name='Bathrooms (Red)', show=True)\n",
    "\n",
    "# for _, row in listings.iterrows():\n",
    "#     folium.CircleMarker(\n",
    "#         location=[row['lat'] + offset, row['lon']],\n",
    "#         radius=2,\n",
    "#         color=None,\n",
    "#         fill=True,\n",
    "#         fill_color=f'rgba({int(row[\"bathrooms\"] * 50)}, 0, 0, 0.6)',\n",
    "#         fill_opacity=0.6\n",
    "#     ).add_to(bathroom_layer)"
   ]
  },
  {
   "cell_type": "code",
   "execution_count": null,
   "id": "9b879cfd",
   "metadata": {},
   "outputs": [],
   "source": [
    "# # Layer: Bedrooms (blue)\n",
    "# bedroom_layer = folium.FeatureGroup(name='Bedrooms (Blue)', show=True)\n",
    "\n",
    "# for _, row in listings.iterrows():\n",
    "#     folium.CircleMarker(\n",
    "#         location=[row['lat'] - offset, row['lon']],\n",
    "#         radius=2,\n",
    "#         color=None,\n",
    "#         fill=True,\n",
    "#         fill_color=f'rgba(0, 0, {int(row[\"bedrooms\"] * 50)}, 0.6)',\n",
    "#         fill_opacity=0.6\n",
    "#     ).add_to(bedroom_layer)"
   ]
  },
  {
   "cell_type": "code",
   "execution_count": null,
   "id": "cb26bd58",
   "metadata": {},
   "outputs": [],
   "source": [
    "growth_layer.add_to(m)\n",
    "livability_layer.add_to(m)\n",
    "affordability_layer.add_to(m)\n",
    "room_layer.add_to(m)\n",
    "# bathroom_layer.add_to(m)\n",
    "# bedroom_layer.add_to(m\n",
    "\n",
    "folium.LayerControl().add_to(m)\n",
    "title_html = '''\n",
    "             <h3 align=\"center\" style=\"font-size:20px\"><b>Victorian Map of Suburbs: Predicted Growth (Purple), Livability (Blue), Affordability (Green), and Important Rental Predictors (Red)</b></h3>\n",
    "             '''\n",
    "m.get_root().html.add_child(folium.Element(title_html))\n",
    "\n",
    "m.save(\"map.html\")\n",
    "m"
   ]
  }
 ],
 "metadata": {
  "kernelspec": {
   "display_name": "Python 3",
   "language": "python",
   "name": "python3"
  },
  "language_info": {
   "codemirror_mode": {
    "name": "ipython",
    "version": 3
   },
   "file_extension": ".py",
   "mimetype": "text/x-python",
   "name": "python",
   "nbconvert_exporter": "python",
   "pygments_lexer": "ipython3",
   "version": "3.11.0"
  }
 },
 "nbformat": 4,
 "nbformat_minor": 5
}
