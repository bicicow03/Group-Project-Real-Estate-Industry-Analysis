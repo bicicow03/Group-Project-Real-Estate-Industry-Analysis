{
 "cells": [
  {
   "cell_type": "code",
   "execution_count": null,
   "id": "866352dd",
   "metadata": {},
   "outputs": [],
   "source": [
    "df1 = pd.read_excel(\"../../data/raw/moving-annual-rent-2025.xlsx\", sheet_name=\"1 bedroom flat\")\n",
    "df2 = pd.read_excel(\"../../data/raw/moving-annual-rent-2025.xlsx\", sheet_name=\"2 bedroom flat\")\n",
    "df3 = pd.read_excel(\"../../data/raw/moving-annual-rent-2025.xlsx\", sheet_name=\"3 bedroom flat\")\n",
    "df4 = pd.read_excel(\"../../data/raw/moving-annual-rent-2025.xlsx\", sheet_name=\"2 bedroom house\")\n",
    "df5 = pd.read_excel(\"../../data/raw/moving-annual-rent-2025.xlsx\", sheet_name=\"3 bedroom house\")\n",
    "df6 = pd.read_excel(\"../../data/raw/moving-annual-rent-2025.xlsx\", sheet_name=\"4 bedroom house\")"
   ]
  },
  {
   "cell_type": "code",
   "execution_count": 1,
   "id": "4f703eda",
   "metadata": {},
   "outputs": [],
   "source": [
    "import warnings\n",
    "warnings.simplefilter(action='ignore', category=FutureWarning)"
   ]
  },
  {
   "cell_type": "code",
   "execution_count": 2,
   "id": "9c6d34d3",
   "metadata": {},
   "outputs": [],
   "source": [
    "import numpy as np\n",
    "import pandas as pd\n",
    "import pmdarima as pm\n",
    "import matplotlib.pyplot as plt"
   ]
  },
  {
   "cell_type": "code",
   "execution_count": 18,
   "id": "12b29c00",
   "metadata": {},
   "outputs": [
    {
     "name": "stdout",
     "output_type": "stream",
     "text": [
      "Sheets included: ['1 bedroom flat', '2 bedroom flat', '3 bedroom flat', '2 bedroom house', '3 bedroom house', '4 bedroom house']\n",
      "Saved ../../data/processed/forecast/1_bedroom_flat.csv with shape (146, 102)\n",
      "Saved ../../data/processed/forecast/2_bedroom_flat.csv with shape (146, 102)\n",
      "Saved ../../data/processed/forecast/3_bedroom_flat.csv with shape (146, 102)\n",
      "Saved ../../data/processed/forecast/2_bedroom_house.csv with shape (146, 102)\n",
      "Saved ../../data/processed/forecast/3_bedroom_house.csv with shape (146, 102)\n",
      "Saved ../../data/processed/forecast/4_bedroom_house.csv with shape (146, 102)\n"
     ]
    }
   ],
   "source": [
    "import pandas as pd\n",
    "import os\n",
    "\n",
    "file_path = \"../../data/raw/moving-annual-rent-2025.xlsx\"\n",
    "output_dir = \"../../data/processed/forecast\"\n",
    "\n",
    "# Make sure the output directory exists\n",
    "os.makedirs(output_dir, exist_ok=True)\n",
    "\n",
    "xls = pd.ExcelFile(file_path)\n",
    "\n",
    "# Get all sheets except \"All properties\"\n",
    "sheets = [s for s in xls.sheet_names if s != \"All properties\"]\n",
    "print(\"Sheets included:\", sheets)\n",
    "\n",
    "for sheet in sheets:\n",
    "    df_raw = pd.read_excel(file_path, sheet_name=sheet, header=None)\n",
    "\n",
    "    # Suburbs (col 1, from row 3 onward)\n",
    "    suburbs = df_raw.iloc[3:, 1].reset_index(drop=True)\n",
    "    suburbs.name = \"Suburb\"\n",
    "\n",
    "    # Date row and type row\n",
    "    date_row = df_raw.iloc[1]\n",
    "    type_row = df_raw.iloc[2]\n",
    "\n",
    "    # Keep only Median columns\n",
    "    median_cols = [i for i, t in enumerate(type_row) if t == \"Median\"]\n",
    "\n",
    "    data = {}\n",
    "    data[\"Suburb\"] = suburbs\n",
    "\n",
    "    for col in median_cols:\n",
    "        date_str = str(date_row[col]).strip()\n",
    "        try:\n",
    "            date = pd.to_datetime(date_str, format=\"%b %Y\")\n",
    "            date_label = date.strftime(\"%Y-%m\")  # e.g. \"2000-03\"\n",
    "        except:\n",
    "            continue\n",
    "\n",
    "        data[date_label] = pd.to_numeric(df_raw.iloc[3:, col].reset_index(drop=True), errors=\"coerce\")\n",
    "\n",
    "    df_wide = pd.DataFrame(data)\n",
    "\n",
    "    # Drop \"Group Total\" if present\n",
    "    df_wide = df_wide[df_wide[\"Suburb\"] != \"Group Total\"]\n",
    "\n",
    "    # Save to ../../processed/forecast\n",
    "    out_file = os.path.join(output_dir, f\"{sheet.replace(' ', '_')}.csv\")\n",
    "    df_wide.to_csv(out_file, index=False)\n",
    "    print(f\"Saved {out_file} with shape {df_wide.shape}\")"
   ]
  }
 ],
 "metadata": {
  "kernelspec": {
   "display_name": "base",
   "language": "python",
   "name": "python3"
  },
  "language_info": {
   "codemirror_mode": {
    "name": "ipython",
    "version": 3
   },
   "file_extension": ".py",
   "mimetype": "text/x-python",
   "name": "python",
   "nbconvert_exporter": "python",
   "pygments_lexer": "ipython3",
   "version": "3.12.4"
  }
 },
 "nbformat": 4,
 "nbformat_minor": 5
}
