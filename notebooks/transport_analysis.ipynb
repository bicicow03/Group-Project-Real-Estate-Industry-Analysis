{
 "cells": [
  {
   "cell_type": "code",
   "execution_count": 29,
   "id": "fb951f0c",
   "metadata": {},
   "outputs": [],
   "source": [
    "import pandas as pd\n",
    "import numpy as np"
   ]
  },
  {
   "cell_type": "code",
   "execution_count": null,
   "id": "57c0a66f",
   "metadata": {},
   "outputs": [],
   "source": [
    "def find_num_stops_within_radius(property_lat, property_lon, stops_df, radius_km):\n",
    "    \"\"\"\n",
    "    Calculate the number of transport stops within a given radius (in km) of a property.\n",
    "    \n",
    "    Parameters:\n",
    "    property_lat (float): Latitude of the property\n",
    "    property_lon (float): Longitude of the property\n",
    "    stops_df (DataFrame): DataFrame containing transport stops with 'Latitude' and 'Longitude' columns\n",
    "    radius_km (float): Radius in kilometers\n",
    "    \n",
    "    Returns:\n",
    "    int: Number of stops within the specified radius\n",
    "    \"\"\"\n",
    "    # Haversine formula\n",
    "    lat_diff = np.radians(stops_df['Latitude'] - property_lat)\n",
    "    lon_diff = np.radians(stops_df['Longitude'] - property_lon)\n",
    "    \n",
    "    a = np.sin(lat_diff / 2)**2 + np.cos(np.radians(property_lat)) * np.cos(np.radians(stops_df['Latitude'])) * np.sin(lon_diff / 2)**2\n",
    "    c = 2 * np.arctan2(np.sqrt(a), np.sqrt(1 - a))\n",
    "    \n",
    "    distances_km = 6371 * c  # Earth radius in km\n",
    "\n",
    "    # Mask for rows within radius\n",
    "    mask = distances_km <= radius_km\n",
    "    stops_within_radius = stops_df[mask]\n",
    "    \n",
    "    # Print matching rows\n",
    "    # print(stops_within_radius)\n",
    "\n",
    "    return np.sum(mask)"
   ]
  },
  {
   "cell_type": "code",
   "execution_count": 31,
   "id": "f4686191",
   "metadata": {},
   "outputs": [],
   "source": [
    "def return_stop_insights_per_type(property_lat, property_lon, stops_df, radius):\n",
    "    output = dict()\n",
    "    output[\"NumMetroBusStops\"] = find_num_stops_within_radius(property_lat, property_lon, stops_df[stops_df[\"StopType\"] == \"Metro Bus\"], radius)\n",
    "    output[\"NumMetroTramStops\"] = find_num_stops_within_radius(property_lat, property_lon, stops_df[stops_df[\"StopType\"] == \"Metro Tram\"], radius)\n",
    "    output[\"NumMetroTrainStops\"] = find_num_stops_within_radius(property_lat, property_lon, stops_df[stops_df[\"StopType\"] == \"Metro Train\"], radius)\n",
    "    output[\"NumRegionalTrainStops\"] = find_num_stops_within_radius(property_lat, property_lon, stops_df[stops_df[\"StopType\"] == \"Regional Train\"], radius)\n",
    "    output[\"NumRegionalBusStops\"] = find_num_stops_within_radius(property_lat, property_lon, stops_df[stops_df[\"StopType\"] == \"Regional Bus\"], radius)\n",
    "    return output"
   ]
  },
  {
   "cell_type": "code",
   "execution_count": null,
   "id": "1dae8ece",
   "metadata": {},
   "outputs": [],
   "source": [
    "# Test, my address longitude and latitude:\n",
    "test_lat = -37.662281\n",
    "test_long = 145.032432\n",
    "radius_km = 2\n",
    "\n",
    "data = pd.read_csv(\"../data/processed/transport/transport_stops.csv\")\n",
    "metro_bus = data[data[\"StopType\"] == \"Metro Bus\"]\n",
    "metro_tram = data[data[\"StopType\"] == \"Metro Tram\"]\n",
    "metro_train = data[data[\"StopType\"] == \"Metro Train\"]\n",
    "regional_train = data[data[\"StopType\"] == \"Regional Train\"]\n",
    "regional_bus = data[data[\"StopType\"] == \"Regional Bus\"]"
   ]
  },
  {
   "cell_type": "code",
   "execution_count": 33,
   "id": "4f47a2ef",
   "metadata": {},
   "outputs": [
    {
     "data": {
      "text/plain": [
       "{'NumMetroBusStops': np.int64(110),\n",
       " 'NumMetroTramStops': np.int64(0),\n",
       " 'NumMetroTrainStops': np.int64(4),\n",
       " 'NumRegionalTrainStops': np.int64(0),\n",
       " 'NumRegionalBusStops': np.int64(0)}"
      ]
     },
     "execution_count": 33,
     "metadata": {},
     "output_type": "execute_result"
    }
   ],
   "source": [
    "return_stop_insights_per_type(test_lat, test_long, data, radius_km)"
   ]
  }
 ],
 "metadata": {
  "kernelspec": {
   "display_name": "Python 3",
   "language": "python",
   "name": "python3"
  },
  "language_info": {
   "codemirror_mode": {
    "name": "ipython",
    "version": 3
   },
   "file_extension": ".py",
   "mimetype": "text/x-python",
   "name": "python",
   "nbconvert_exporter": "python",
   "pygments_lexer": "ipython3",
   "version": "3.11.0"
  }
 },
 "nbformat": 4,
 "nbformat_minor": 5
}
