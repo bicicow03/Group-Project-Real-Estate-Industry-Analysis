{
 "cells": [
  {
   "cell_type": "markdown",
   "id": "915f804e",
   "metadata": {},
   "source": [
    "# External Data Collection for Real Estate Analysis\n",
    "\n",
    "Download key external datasets"
   ]
  },
  {
   "cell_type": "code",
   "execution_count": null,
   "id": "7e93dab6",
   "metadata": {},
   "outputs": [],
   "source": [
    "import requests\n",
    "import zipfile\n",
    "import pandas as pd\n",
    "import geopandas as gpd\n",
    "from pathlib import Path\n",
    "import os\n",
    "import time\n",
    "\n",
    "# Create directory structure\n",
    "directories = [\n",
    "    '../data/landing/boundaries',\n",
    "    '../data/landing/demographics', \n",
    "    '../data/landing/transport',\n",
    "    '../data/landing/schools',\n",
    "    '../data/landing/crime',\n",
    "    '../data/landing/projections'\n",
    "]\n",
    "\n",
    "for directory in directories:\n",
    "    Path(directory).mkdir(parents=True, exist_ok=True)"
   ]
  },
  {
   "cell_type": "markdown",
   "id": "c9f5fdb3",
   "metadata": {},
   "source": [
    "## Download SA2 Boundaries\n",
    "\n",
    "Download Statistical Area Level 2 boundaries for mapping properties to demographic areas."
   ]
  },
  {
   "cell_type": "code",
   "execution_count": 9,
   "id": "c56c511c",
   "metadata": {},
   "outputs": [
    {
     "name": "stdout",
     "output_type": "stream",
     "text": [
      "Downloading SA2 boundaries...\n",
      "SA2 boundaries downloaded\n"
     ]
    }
   ],
   "source": [
    "# Download SA2 boundaries\n",
    "url = \"https://www.abs.gov.au/statistics/standards/australian-statistical-geography-standard-asgs-edition-3/jul2021-jun2026/access-and-downloads/digital-boundary-files/SA2_2021_AUST_SHP_GDA2020.zip\"\n",
    "\n",
    "print(\"Downloading SA2 boundaries...\")\n",
    "response = requests.get(url, timeout=120)\n",
    "response.raise_for_status()\n",
    "\n",
    "zip_path = Path('../data/landing/boundaries/SA2_2021_AUST_GDA2020.zip')\n",
    "with open(zip_path, 'wb') as f:\n",
    "    f.write(response.content)\n",
    "\n",
    "with zipfile.ZipFile(zip_path, 'r') as zip_ref:\n",
    "    zip_ref.extractall('../data/landing/boundaries/')\n",
    "\n",
    "print(\"SA2 boundaries downloaded\")"
   ]
  },
  {
   "cell_type": "markdown",
   "id": "b235427d",
   "metadata": {},
   "source": [
    "## ABS Census Data\n",
    "\n",
    "Census DataPacks require manual download due to dynamic URLs."
   ]
  },
  {
   "cell_type": "code",
   "execution_count": 11,
   "id": "2636c488",
   "metadata": {},
   "outputs": [
    {
     "name": "stdout",
     "output_type": "stream",
     "text": [
      "Downloading Census data...\n",
      "Census data downloaded\n"
     ]
    }
   ],
   "source": [
    "# Download Census DataPacks\n",
    "url = \"https://www.abs.gov.au/census/find-census-data/datapacks/download/2021_GCP_SA2_for_VIC_short-header.zip\"\n",
    "\n",
    "print(\"Downloading Census data...\")\n",
    "response = requests.get(url, timeout=120)\n",
    "response.raise_for_status()\n",
    "\n",
    "zip_path = Path('../data/landing/demographics/2021_GCP_SA2_for_VIC_short-header.zip')\n",
    "with open(zip_path, 'wb') as f:\n",
    "    f.write(response.content)\n",
    "\n",
    "with zipfile.ZipFile(zip_path, 'r') as zip_ref:\n",
    "    zip_ref.extractall('../data/landing/demographics/')\n",
    "\n",
    "print(\"Census data downloaded\")"
   ]
  },
  {
   "cell_type": "markdown",
   "id": "c386d515",
   "metadata": {},
   "source": [
    "## Population Projections\n",
    "\n",
    "Download Victoria in Future 2023 projections by SA2."
   ]
  },
  {
   "cell_type": "code",
   "execution_count": 14,
   "id": "aceebeb5",
   "metadata": {},
   "outputs": [
    {
     "name": "stdout",
     "output_type": "stream",
     "text": [
      "Downloading population projections...\n",
      "Population projections downloaded\n"
     ]
    }
   ],
   "source": [
    "# Download population projections\n",
    "url = \"https://www.planning.vic.gov.au/__data/assets/excel_doc/0038/680879/VIF2023_Victoria_Demographic_Projections_to_2051.xlsx\"\n",
    "\n",
    "\n",
    "print(\"Downloading population projections...\")\n",
    "response = requests.get(url, timeout=60)\n",
    "response.raise_for_status()\n",
    "\n",
    "with open('../data/landing/projections/VIF2023_projections.xlsx', 'wb') as f:\n",
    "    f.write(response.content)\n",
    "\n",
    "print(\"Population projections downloaded\")\n"
   ]
  },
  {
   "cell_type": "markdown",
   "id": "a4d1d9a3",
   "metadata": {},
   "source": [
    "## School Locations\n",
    "\n",
    "Download Victorian school locations with coordinates."
   ]
  },
  {
   "cell_type": "code",
   "execution_count": 19,
   "id": "e9d3f88b",
   "metadata": {},
   "outputs": [
    {
     "name": "stdout",
     "output_type": "stream",
     "text": [
      "Downloading school locations...\n",
      "Downloaded 2294 schools\n"
     ]
    }
   ],
   "source": [
    "# Download school locations CSV directly\n",
    "url = \"https://www.education.vic.gov.au/Documents/about/research/datavic/dv378_DataVic-SchoolLocations-2024.csv\"\n",
    "\n",
    "print(\"Downloading school locations...\")\n",
    "response = requests.get(url, timeout=30)\n",
    "response.raise_for_status()\n",
    "\n",
    "with open('../data/landing/schools/school_locations_2024.csv', 'wb') as f:\n",
    "    f.write(response.content)\n",
    "\n",
    "# Load and check the data\n",
    "df = pd.read_csv('../data/landing/schools/school_locations_2024.csv', encoding='latin-1')\n",
    "print(f\"Downloaded {len(df)} schools\")"
   ]
  },
  {
   "cell_type": "markdown",
   "id": "eb527b15",
   "metadata": {},
   "source": [
    "## Crime Statistics\n",
    "\n",
    "Download crime data by Local Government Area."
   ]
  },
  {
   "cell_type": "code",
   "execution_count": 20,
   "id": "ba357ad1",
   "metadata": {},
   "outputs": [
    {
     "name": "stdout",
     "output_type": "stream",
     "text": [
      "Downloading crime statistics...\n",
      "Crime statistics downloaded\n"
     ]
    }
   ],
   "source": [
    "# Download crime statistics\n",
    "crime_url = \"https://files.crimestatistics.vic.gov.au/2025-06/Data_Tables_LGA_Criminal_Incidents_Year_Ending_March_2025.xlsx\"\n",
    "\n",
    "print(\"Downloading crime statistics...\")\n",
    "try:\n",
    "    response = requests.get(crime_url, timeout=60)\n",
    "    response.raise_for_status()\n",
    "    \n",
    "    with open('../data/landing/crime/crime_by_lga_2025.xlsx', 'wb') as f:\n",
    "        f.write(response.content)\n",
    "    \n",
    "    print(\"Crime statistics downloaded\")\n",
    "    \n",
    "except requests.exceptions.RequestException as e:\n",
    "    print(f\"Download failed: {e}\")\n",
    "    print(\"Manual download required from: https://www.crimestatistics.vic.gov.au/crime-statistics/latest-victorian-crime-data/download-data\")"
   ]
  },
  {
   "cell_type": "markdown",
   "id": "4ef2fc6b",
   "metadata": {},
   "source": [
    "## PTV GTFS Data\n",
    "\n",
    "Download PTV dataset - Please refer to below for the data dictionary\n",
    "\n",
    "https://discover.data.vic.gov.au/dataset/gtfs-schedule"
   ]
  },
  {
   "cell_type": "code",
   "execution_count": 29,
   "id": "6859b0f3",
   "metadata": {},
   "outputs": [
    {
     "name": "stdout",
     "output_type": "stream",
     "text": [
      "GTFS data already exists\n"
     ]
    }
   ],
   "source": [
    "# Check if GTFS data already exists, if not download it\n",
    "gtfs_zip_path = Path('../data/landing/transport/ptv_gtfs.zip')\n",
    "gtfs_folder_path = Path('../data/landing/transport/ptv_gtfs')\n",
    "\n",
    "if not gtfs_zip_path.exists():\n",
    "    print(\"Downloading PTV GTFS data...\")\n",
    "    gtfs_url = \"https://data.ptv.vic.gov.au/downloads/gtfs.zip\"\n",
    "    response = requests.get(gtfs_url, timeout=60)\n",
    "    response.raise_for_status()\n",
    "    \n",
    "    with open(gtfs_zip_path, 'wb') as f:\n",
    "        f.write(response.content)\n",
    "    \n",
    "    with zipfile.ZipFile(gtfs_zip_path, 'r') as zip_ref:\n",
    "        zip_ref.extractall('../data/landing/transport/ptv_gtfs/')\n",
    "else:\n",
    "    print(\"GTFS data already exists\")"
   ]
  }
 ],
 "metadata": {
  "kernelspec": {
   "display_name": ".venv",
   "language": "python",
   "name": "python3"
  },
  "language_info": {
   "codemirror_mode": {
    "name": "ipython",
    "version": 3
   },
   "file_extension": ".py",
   "mimetype": "text/x-python",
   "name": "python",
   "nbconvert_exporter": "python",
   "pygments_lexer": "ipython3",
   "version": "3.11.11"
  }
 },
 "nbformat": 4,
 "nbformat_minor": 5
}
