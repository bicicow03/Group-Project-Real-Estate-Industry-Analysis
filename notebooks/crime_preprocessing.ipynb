{
 "cells": [
  {
   "cell_type": "code",
   "execution_count": 13,
   "id": "0965a6d2",
   "metadata": {},
   "outputs": [],
   "source": [
    "import pandas as pd"
   ]
  },
  {
   "cell_type": "code",
   "execution_count": 14,
   "id": "4d696fef",
   "metadata": {},
   "outputs": [],
   "source": [
    "# Data Reading\n",
    "\n",
    "# Total Crime Stats\n",
    "df1 = pd.read_excel(\"../data/landing/crime/crime_by_lga_2025.xlsx\", sheet_name=\"Table 01\")\n",
    "\n",
    "# Individual Crime Stats\n",
    "df2 = pd.read_excel(\"../data/landing/crime/crime_by_lga_2025.xlsx\", sheet_name=\"Table 02\")\n"
   ]
  },
  {
   "cell_type": "code",
   "execution_count": 15,
   "id": "682cd724",
   "metadata": {},
   "outputs": [
    {
     "data": {
      "text/plain": [
       "(870, 50294)"
      ]
     },
     "execution_count": 15,
     "metadata": {},
     "output_type": "execute_result"
    }
   ],
   "source": [
    "len(df1),len(df2),"
   ]
  },
  {
   "cell_type": "code",
   "execution_count": 17,
   "id": "a16d2b14",
   "metadata": {},
   "outputs": [
    {
     "name": "stdout",
     "output_type": "stream",
     "text": [
      "   year local_government_area  incidents_recorded  rate_per_100000_population  \\\n",
      "0  2025               Banyule                8086                 6082.275801   \n",
      "1  2025              Brimbank               14369                 7214.154149   \n",
      "2  2025               Darebin               15001                 9271.641976   \n",
      "3  2025           Hobsons Bay                6289                 6491.469850   \n",
      "4  2025                  Hume               17321                 6180.821302   \n",
      "\n",
      "   population_est  \n",
      "0    132943.65900  \n",
      "1    199177.88980  \n",
      "2    161794.42690  \n",
      "3     96880.98605  \n",
      "4    280237.83820  \n"
     ]
    }
   ],
   "source": [
    "# Standardize column names \n",
    "df1.columns = (\n",
    "    df1.columns.str.strip()\n",
    "              .str.lower()\n",
    "              .str.replace(\" \", \"_\")\n",
    "              .str.replace(\",\", \"\", regex=True)   # remove commas\n",
    "              .str.replace(r\"[()]\", \"\", regex=True)\n",
    ")\n",
    "\n",
    "# Remove totals\n",
    "df = df1[df1[\"local_government_area\"].str.lower() != \"total\"]\n",
    "\n",
    "# Strip whitespace from LGA names\n",
    "df1[\"local_government_area\"] = df1[\"local_government_area\"].str.strip()\n",
    "\n",
    "# Create population estimate \n",
    "df1[\"population_est\"] = (df1[\"incidents_recorded\"] / df1[\"rate_per_100000_population\"]) * 100000\n",
    "\n",
    "# Select useful columns (for merging later)\n",
    "df1 = df1[[\n",
    "    \"year\", \n",
    "    \"local_government_area\", \n",
    "    \"incidents_recorded\", \n",
    "    \"rate_per_100000_population\", \n",
    "    \"population_est\"\n",
    "]]\n",
    "\n",
    "print(df1.head())"
   ]
  },
  {
   "cell_type": "code",
   "execution_count": 28,
   "id": "f4a1ac36",
   "metadata": {},
   "outputs": [
    {
     "name": "stdout",
     "output_type": "stream",
     "text": [
      "   year local_government_area  incidents_recorded  rate_per_100000_population  \\\n",
      "0  2025               Banyule                8086                 6082.275801   \n",
      "1  2025              Brimbank               14369                 7214.154149   \n",
      "2  2025               Darebin               15001                 9271.641976   \n",
      "3  2025           Hobsons Bay                6289                 6491.469850   \n",
      "4  2025                  Hume               17321                 6180.821302   \n",
      "5  2025           Maribyrnong                9817                10299.008117   \n",
      "6  2025             Melbourne               34620                17792.112910   \n",
      "7  2025                Melton               11912                 5103.404254   \n",
      "8  2025             Merri-bek               12563                 6654.135828   \n",
      "9  2025         Moonee Valley                8049                 6137.601063   \n",
      "\n",
      "   population_est  crime_per_person  crime_index  crime_rank  \n",
      "0    132943.65900          0.060823     1.079022       306.0  \n",
      "1    199177.88980          0.072142     1.279822       171.0  \n",
      "2    161794.42690          0.092716     1.644829        49.0  \n",
      "3     96880.98605          0.064915     1.151615       246.0  \n",
      "4    280237.83820          0.061808     1.096504       284.0  \n",
      "5     95319.85885          0.102990     1.827089        31.0  \n",
      "6    194580.59970          0.177921     3.156398         2.0  \n",
      "7    233412.82420          0.051034     0.905366       447.0  \n",
      "8    188799.87310          0.066541     1.180473       225.0  \n",
      "9    131142.44340          0.061376     1.088837       293.0  \n"
     ]
    }
   ],
   "source": [
    "# Feature Engineering DF1\n",
    "\n",
    "# Crime Density\n",
    "df1[\"crime_per_person\"] = df1[\"incidents_recorded\"] / df1[\"population_est\"]\n",
    "\n",
    "# Relative CI\n",
    "state_avg = df1[\"rate_per_100000_population\"].mean()\n",
    "df1[\"crime_index\"] = df1[\"rate_per_100000_population\"] / state_avg\n",
    "\n",
    "# Rank Crime\n",
    "df1[\"crime_rank\"] = df1[\"rate_per_100000_population\"].rank(ascending=False)\n",
    "\n",
    "print(df1.head(10))\n"
   ]
  },
  {
   "cell_type": "code",
   "execution_count": null,
   "id": "3fbff155",
   "metadata": {},
   "outputs": [
    {
     "name": "stdout",
     "output_type": "stream",
     "text": [
      "   year local_government_area             offence_division  \\\n",
      "0  2025              Ballarat  A Crimes against the person   \n",
      "1  2025              Ballarat  A Crimes against the person   \n",
      "2  2025              Ballarat  A Crimes against the person   \n",
      "3  2025              Ballarat  A Crimes against the person   \n",
      "4  2025              Ballarat  A Crimes against the person   \n",
      "\n",
      "                 offence_subdivision  \\\n",
      "0  A10 Homicide and related offences   \n",
      "1   A20 Assault and related offences   \n",
      "2   A20 Assault and related offences   \n",
      "3   A20 Assault and related offences   \n",
      "4   A20 Assault and related offences   \n",
      "\n",
      "                                    offence_subgroup  incidents_recorded  \\\n",
      "0                  A10 Homicide and related offences                   8   \n",
      "1                            A211 FV Serious assault                 221   \n",
      "2                        A212 Non-FV Serious assault                 184   \n",
      "3  A22 Assault police, emergency services or othe...                  72   \n",
      "4                             A231 FV Common assault                 311   \n",
      "\n",
      "   lga_rate_per_100000_population  population_est  crime_share crime_type  \n",
      "0                        6.460973   123820.368706     0.000788   property  \n",
      "1                      178.484366   123820.368700     0.021769   property  \n",
      "2                      148.602368   123820.368700     0.018125   property  \n",
      "3                       58.148753   123820.368700     0.007092   property  \n",
      "4                      251.170307   123820.368700     0.030634   property  \n"
     ]
    }
   ],
   "source": [
    "# Standardize column names\n",
    "df2.columns = (\n",
    "    df2.columns.str.strip()\n",
    "               .str.lower()\n",
    "               .str.replace(\" \", \"_\")\n",
    "               .str.replace(\",\", \"\", regex=True)\n",
    "               .str.replace(r\"[()]\", \"\", regex=True)\n",
    ")\n",
    "\n",
    "# Drop totals\n",
    "df2 = df2[df2[\"local_government_area\"].str.lower() != \"total\"]\n",
    "\n",
    "# Clean LGA names\n",
    "df2[\"local_government_area\"] = df2[\"local_government_area\"].str.strip()\n",
    "\n",
    "# Population estimate\n",
    "df2[\"population_est\"] = (df2[\"incidents_recorded\"] / df2[\"lga_rate_per_100000_population\"]) * 100000\n",
    "\n",
    "# Crime share of each offence type within LGA\n",
    "df2[\"crime_share\"] = df2[\"incidents_recorded\"] / df2.groupby(\n",
    "    [\"year\", \"local_government_area\"]\n",
    ")[\"incidents_recorded\"].transform(\"sum\")\n",
    "\n",
    "# Add a high-level grouping: violent vs property \n",
    "violent_keywords = [\"assault\", \"homicide\", \"sexual\", \"robbery\", \"abduction\"]\n",
    "df2[\"crime_type\"] = df2[\"offence_division\"].str.lower().apply(\n",
    "    lambda x: \"violent\" if any(k in x for k in violent_keywords) else \"property\"\n",
    ")\n",
    "\n",
    "# Keep useful columns for analysis\n",
    "df2_clean = df2[[\n",
    "    \"year\", \n",
    "    \"local_government_area\", \n",
    "    \"offence_division\", \n",
    "    \"offence_subdivision\", \n",
    "    \"offence_subgroup\", \n",
    "    \"incidents_recorded\", \n",
    "    \"lga_rate_per_100000_population\", \n",
    "    \"population_est\", \n",
    "    \"crime_share\", \n",
    "    \"crime_type\"\n",
    "]]\n",
    "\n",
    "print(df2_clean.head())"
   ]
  },
  {
   "cell_type": "code",
   "execution_count": 24,
   "id": "3850cef1",
   "metadata": {},
   "outputs": [],
   "source": [
    "# Feature Engineering DF2\n",
    "\n",
    "# Violent vs Property Ratios\n",
    "violent = df2[df2[\"crime_type\"]==\"violent\"].groupby(\"local_government_area\")[\"incidents_recorded\"].sum()\n",
    "property = df2[df2[\"crime_type\"]==\"property\"].groupby(\"local_government_area\")[\"incidents_recorded\"].sum()\n",
    "ratio = (violent / property).fillna(0)\n",
    "\n",
    "# Top Crime Type\n",
    "top_share = df2.groupby([\"local_government_area\"])[\"crime_share\"].max().reset_index(name=\"top_crime_share\")\n",
    "\n"
   ]
  },
  {
   "cell_type": "code",
   "execution_count": 26,
   "id": "5d909cb4",
   "metadata": {},
   "outputs": [
    {
     "name": "stdout",
     "output_type": "stream",
     "text": [
      "   year year_ending police_service_area local_government_area  \\\n",
      "0  2025       March            Ballarat              Ballarat   \n",
      "1  2025       March            Ballarat              Ballarat   \n",
      "2  2025       March            Ballarat              Ballarat   \n",
      "3  2025       March            Ballarat              Ballarat   \n",
      "4  2025       March            Ballarat              Ballarat   \n",
      "5  2025       March            Ballarat              Ballarat   \n",
      "6  2025       March            Ballarat              Ballarat   \n",
      "7  2025       March            Ballarat              Ballarat   \n",
      "8  2025       March            Ballarat              Ballarat   \n",
      "9  2025       March            Ballarat              Ballarat   \n",
      "\n",
      "              offence_division                 offence_subdivision  \\\n",
      "0  A Crimes against the person   A10 Homicide and related offences   \n",
      "1  A Crimes against the person    A20 Assault and related offences   \n",
      "2  A Crimes against the person    A20 Assault and related offences   \n",
      "3  A Crimes against the person    A20 Assault and related offences   \n",
      "4  A Crimes against the person    A20 Assault and related offences   \n",
      "5  A Crimes against the person    A20 Assault and related offences   \n",
      "6  A Crimes against the person                 A30 Sexual offences   \n",
      "7  A Crimes against the person  A40 Abduction and related offences   \n",
      "8  A Crimes against the person  A40 Abduction and related offences   \n",
      "9  A Crimes against the person                         A50 Robbery   \n",
      "\n",
      "                                    offence_subgroup  incidents_recorded  \\\n",
      "0                  A10 Homicide and related offences                   8   \n",
      "1                            A211 FV Serious assault                 221   \n",
      "2                        A212 Non-FV Serious assault                 184   \n",
      "3  A22 Assault police, emergency services or othe...                  72   \n",
      "4                             A231 FV Common assault                 311   \n",
      "5                         A232 Non-FV Common assault                 234   \n",
      "6                                A30 Sexual offences                 262   \n",
      "7                                      A41 Abduction                   3   \n",
      "8                             A42 False imprisonment                   5   \n",
      "9                             A51 Aggravated robbery                  30   \n",
      "\n",
      "   psa_rate_per_100000_population  lga_rate_per_100000_population  \\\n",
      "0                        6.067524                        6.460973   \n",
      "1                      167.615351                      178.484366   \n",
      "2                      139.553053                      148.602368   \n",
      "3                       54.607716                       58.148753   \n",
      "4                      235.874996                      251.170307   \n",
      "5                      177.475078                      188.983446   \n",
      "6                      198.711412                      211.596850   \n",
      "7                        2.275322                        2.422865   \n",
      "8                        3.792203                        4.038108   \n",
      "9                       22.753215                       24.228647   \n",
      "\n",
      "   population_est  crime_share crime_type  \n",
      "0   123820.368706     0.000788   property  \n",
      "1   123820.368700     0.021769   property  \n",
      "2   123820.368700     0.018125   property  \n",
      "3   123820.368700     0.007092   property  \n",
      "4   123820.368700     0.030634   property  \n",
      "5   123820.368700     0.023050   property  \n",
      "6   123820.368700     0.025808   property  \n",
      "7   123820.368713     0.000296   property  \n",
      "8   123820.368703     0.000493   property  \n",
      "9   123820.368697     0.002955   property  \n",
      "Violent crimes by LGA:\n",
      "Series([], Name: incidents_recorded, dtype: int64)\n",
      "Property crimes by LGA:\n",
      "local_government_area\n",
      "Alpine         3544\n",
      "Ararat         9679\n",
      "Ballarat      86414\n",
      "Banyule       67525\n",
      "Bass Coast    20484\n",
      "Name: incidents_recorded, dtype: int64\n"
     ]
    }
   ],
   "source": [
    "# Preview\n",
    "print(df2.head(10))\n",
    "\n",
    "# Group summary\n",
    "violent_summary = df2[df2[\"crime_type\"]==\"violent\"].groupby(\"local_government_area\")[\"incidents_recorded\"].sum()\n",
    "property_summary = df2[df2[\"crime_type\"]==\"property\"].groupby(\"local_government_area\")[\"incidents_recorded\"].sum()\n",
    "\n",
    "print(\"Violent crimes by LGA:\")\n",
    "print(violent_summary.head())\n",
    "\n",
    "print(\"Property crimes by LGA:\")\n",
    "print(property_summary.head())"
   ]
  }
 ],
 "metadata": {
  "kernelspec": {
   "display_name": "base",
   "language": "python",
   "name": "python3"
  },
  "language_info": {
   "codemirror_mode": {
    "name": "ipython",
    "version": 3
   },
   "file_extension": ".py",
   "mimetype": "text/x-python",
   "name": "python",
   "nbconvert_exporter": "python",
   "pygments_lexer": "ipython3",
   "version": "3.12.4"
  }
 },
 "nbformat": 4,
 "nbformat_minor": 5
}
