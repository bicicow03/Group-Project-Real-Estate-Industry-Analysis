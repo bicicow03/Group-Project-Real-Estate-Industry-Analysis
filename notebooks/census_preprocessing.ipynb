{
 "cells": [
  {
   "cell_type": "code",
   "execution_count": 1,
   "id": "62f309a7",
   "metadata": {},
   "outputs": [],
   "source": [
    "import pandas as pd\n",
    "\n",
    "#averages\n",
    "df_averages=pd.read_csv(\"../data/landing/demographics/2021 Census GCP Statistical Area 2 for VIC/2021Census_G02_VIC_SA2.csv\")\n",
    "#tenure, how many rented etc.\n",
    "df_structure=pd.read_csv(\"../data/landing/demographics/2021 Census GCP Statistical Area 2 for VIC/2021Census_G37_VIC_SA2.csv\") \n",
    "#unemployment \n",
    "df_unemployment=pd.read_csv(\"../data/landing/demographics/2021 Census GCP Statistical Area 2 for VIC/2021Census_G46B_VIC_SA2.csv\")\n",
    "#education\n",
    "df_education=pd.read_csv(\"../data/landing/demographics/2021 Census GCP Statistical Area 2 for VIC/2021Census_G49B_VIC_SA2.csv\")"
   ]
  },
  {
   "cell_type": "markdown",
   "id": "130813df",
   "metadata": {},
   "source": [
    "First file from census is averages of features per each area, most useful for our analysis "
   ]
  },
  {
   "cell_type": "code",
   "execution_count": 2,
   "id": "cc7b77b5",
   "metadata": {},
   "outputs": [
    {
     "data": {
      "text/html": [
       "<div>\n",
       "<style scoped>\n",
       "    .dataframe tbody tr th:only-of-type {\n",
       "        vertical-align: middle;\n",
       "    }\n",
       "\n",
       "    .dataframe tbody tr th {\n",
       "        vertical-align: top;\n",
       "    }\n",
       "\n",
       "    .dataframe thead th {\n",
       "        text-align: right;\n",
       "    }\n",
       "</style>\n",
       "<table border=\"1\" class=\"dataframe\">\n",
       "  <thead>\n",
       "    <tr style=\"text-align: right;\">\n",
       "      <th></th>\n",
       "      <th>SA2_CODE_2021</th>\n",
       "      <th>Median_age_persons</th>\n",
       "      <th>Median_mortgage_repay_monthly</th>\n",
       "      <th>Median_tot_prsnl_inc_weekly</th>\n",
       "      <th>Median_rent_weekly</th>\n",
       "      <th>Median_tot_fam_inc_weekly</th>\n",
       "      <th>Average_num_psns_per_bedroom</th>\n",
       "      <th>Median_tot_hhd_inc_weekly</th>\n",
       "      <th>Average_household_size</th>\n",
       "    </tr>\n",
       "  </thead>\n",
       "  <tbody>\n",
       "    <tr>\n",
       "      <th>0</th>\n",
       "      <td>201011001</td>\n",
       "      <td>34</td>\n",
       "      <td>1698</td>\n",
       "      <td>865</td>\n",
       "      <td>370</td>\n",
       "      <td>2218</td>\n",
       "      <td>0.8</td>\n",
       "      <td>1952</td>\n",
       "      <td>2.8</td>\n",
       "    </tr>\n",
       "    <tr>\n",
       "      <th>1</th>\n",
       "      <td>201011002</td>\n",
       "      <td>45</td>\n",
       "      <td>1700</td>\n",
       "      <td>842</td>\n",
       "      <td>313</td>\n",
       "      <td>2276</td>\n",
       "      <td>0.7</td>\n",
       "      <td>1573</td>\n",
       "      <td>2.2</td>\n",
       "    </tr>\n",
       "    <tr>\n",
       "      <th>2</th>\n",
       "      <td>201011005</td>\n",
       "      <td>42</td>\n",
       "      <td>1662</td>\n",
       "      <td>805</td>\n",
       "      <td>330</td>\n",
       "      <td>2270</td>\n",
       "      <td>0.8</td>\n",
       "      <td>1927</td>\n",
       "      <td>2.7</td>\n",
       "    </tr>\n",
       "    <tr>\n",
       "      <th>3</th>\n",
       "      <td>201011006</td>\n",
       "      <td>33</td>\n",
       "      <td>1500</td>\n",
       "      <td>775</td>\n",
       "      <td>360</td>\n",
       "      <td>1855</td>\n",
       "      <td>0.7</td>\n",
       "      <td>1627</td>\n",
       "      <td>2.6</td>\n",
       "    </tr>\n",
       "    <tr>\n",
       "      <th>4</th>\n",
       "      <td>201011007</td>\n",
       "      <td>41</td>\n",
       "      <td>1733</td>\n",
       "      <td>802</td>\n",
       "      <td>350</td>\n",
       "      <td>2236</td>\n",
       "      <td>0.8</td>\n",
       "      <td>2065</td>\n",
       "      <td>3.0</td>\n",
       "    </tr>\n",
       "  </tbody>\n",
       "</table>\n",
       "</div>"
      ],
      "text/plain": [
       "   SA2_CODE_2021  Median_age_persons  Median_mortgage_repay_monthly  \\\n",
       "0      201011001                  34                           1698   \n",
       "1      201011002                  45                           1700   \n",
       "2      201011005                  42                           1662   \n",
       "3      201011006                  33                           1500   \n",
       "4      201011007                  41                           1733   \n",
       "\n",
       "   Median_tot_prsnl_inc_weekly  Median_rent_weekly  Median_tot_fam_inc_weekly  \\\n",
       "0                          865                 370                       2218   \n",
       "1                          842                 313                       2276   \n",
       "2                          805                 330                       2270   \n",
       "3                          775                 360                       1855   \n",
       "4                          802                 350                       2236   \n",
       "\n",
       "   Average_num_psns_per_bedroom  Median_tot_hhd_inc_weekly  \\\n",
       "0                           0.8                       1952   \n",
       "1                           0.7                       1573   \n",
       "2                           0.8                       1927   \n",
       "3                           0.7                       1627   \n",
       "4                           0.8                       2065   \n",
       "\n",
       "   Average_household_size  \n",
       "0                     2.8  \n",
       "1                     2.2  \n",
       "2                     2.7  \n",
       "3                     2.6  \n",
       "4                     3.0  "
      ]
     },
     "execution_count": 2,
     "metadata": {},
     "output_type": "execute_result"
    }
   ],
   "source": [
    "df_averages.head()"
   ]
  },
  {
   "cell_type": "markdown",
   "id": "321ae1de",
   "metadata": {},
   "source": [
    "Extracting the dwelling ownership/structure "
   ]
  },
  {
   "cell_type": "code",
   "execution_count": 3,
   "id": "e9791039",
   "metadata": {},
   "outputs": [
    {
     "name": "stdout",
     "output_type": "stream",
     "text": [
      "   SA2_CODE_2021  Owner occupied (%)  Mortgage (%)  Total rented (%)  \\\n",
      "0      201011001            0.292209      0.409335          0.282492   \n",
      "1      201011002            0.395353      0.245830          0.337768   \n",
      "2      201011005            0.436955      0.400872          0.142744   \n",
      "3      201011006            0.263566      0.447804          0.256072   \n",
      "4      201011007            0.395699      0.549821          0.040143   \n",
      "\n",
      "   Other tenure (%)  \n",
      "0          0.007635  \n",
      "1          0.012311  \n",
      "2          0.008327  \n",
      "3          0.017829  \n",
      "4          0.008602  \n"
     ]
    }
   ],
   "source": [
    "# Keep only columns ending with \"_Tot\"\n",
    "df_tot = df_structure.loc[:, df_structure.columns.str.endswith('_Total') | (df_structure.columns == \"SA2_CODE_2021\")]\n",
    "\n",
    "# Separate the key column\n",
    "codes = df_tot[[\"SA2_CODE_2021\"]]\n",
    "\n",
    "# Divide only the numeric part\n",
    "df_per = df_tot.drop(columns=[\"SA2_CODE_2021\"]).div(df_tot[\"Total_Total\"], axis=0)\n",
    "\n",
    "# Reattach the codes\n",
    "df_per = pd.concat([codes, df_per], axis=1)\n",
    "\n",
    "# Rename only the ones you care about\n",
    "rename_map = {\n",
    "    \"SA2_CODE_2021\": \"SA2_CODE_2021\",\n",
    "    \"O_OR_Total\": \"Owner occupied (%)\",\n",
    "    \"O_MTG_Total\": \"Mortgage (%)\",\n",
    "    \"R_Tot_Total\": \"Total rented (%)\",\n",
    "    \"Oth_ten_type_Total\": \"Other tenure (%)\"\n",
    "}\n",
    "\n",
    "# Apply rename\n",
    "df_selected = df_per.rename(columns=rename_map)\n",
    "\n",
    "# Keep only the renamed columns\n",
    "df_selected = df_selected[list(rename_map.values())]\n",
    "\n",
    "print(df_selected.head())\n",
    "\n",
    "df_tenure_cleaned=df_selected"
   ]
  },
  {
   "cell_type": "markdown",
   "id": "6bdb181f",
   "metadata": {},
   "source": [
    "Extracting unemployment levels "
   ]
  },
  {
   "cell_type": "code",
   "execution_count": 4,
   "id": "9ecfd836",
   "metadata": {},
   "outputs": [],
   "source": [
    "df_tot = df_unemployment.loc[:, (df_unemployment.columns == \"P_Tot_Unemp_Tot\") | (df_unemployment.columns == \"SA2_CODE_2021\") | (df_unemployment.columns == \"P_Tot_LF_Tot\")]\n",
    "\n",
    "codes = df_tot[[\"SA2_CODE_2021\"]]\n",
    "\n",
    "df_per = df_tot.drop(columns=[\"SA2_CODE_2021\"]).div(df_tot[\"P_Tot_LF_Tot\"], axis=0)\n",
    "\n",
    "\n",
    "df_per = pd.concat([codes, df_per], axis=1)\n",
    "\n",
    "df_per = df_per.rename(columns={\"P_Tot_Unemp_Tot\": \"Unemployment\"})\n",
    "df_per = df_per.drop(columns=[\"P_Tot_LF_Tot\"])\n",
    "df_per.head()\n",
    "\n",
    "df_unemployment_cleaned=df_per"
   ]
  },
  {
   "cell_type": "markdown",
   "id": "f4a6415f",
   "metadata": {},
   "source": [
    "Extracting Education levels"
   ]
  },
  {
   "cell_type": "code",
   "execution_count": 5,
   "id": "25cf5d06",
   "metadata": {},
   "outputs": [
    {
     "name": "stdout",
     "output_type": "stream",
     "text": [
      "   SA2_CODE_2021  post_gradutae (%)  Graduate_diploma_certificate(%)  \\\n",
      "0      201011001           0.100185                         0.057072   \n",
      "1      201011002           0.135089                         0.074875   \n",
      "2      201011005           0.097846                         0.079159   \n",
      "3      201011006           0.048293                         0.033946   \n",
      "4      201011007           0.042786                         0.050249   \n",
      "\n",
      "   Bachelor (%)  Advanced_&_Diploma (%)  Certificate_level (%)  Total_persons  \n",
      "0      0.275849                0.158122               0.326621           8095  \n",
      "1      0.317722                0.145338               0.211957           7025  \n",
      "2      0.284973                0.154685               0.287568           3853  \n",
      "3      0.206506                0.145686               0.454031           4949  \n",
      "4      0.196020                0.166169               0.464179           2010  \n"
     ]
    }
   ],
   "source": [
    "# Keep SA2 codes and raw total persons aside\n",
    "codes = df_education[[\"SA2_CODE_2021\", \"P_Tot_Total\"]]\n",
    "\n",
    "# Select only _Total columns (excluding P_Tot_Total now, since it's in codes)\n",
    "df_tot = df_education.loc[:, df_education.columns.str.endswith('_Total') | (df_education.columns == \"SA2_CODE_2021\")]\n",
    "df_tot = df_tot.drop(columns=[\"P_Tot_Total\", \"SA2_CODE_2021\"])\n",
    "\n",
    "# Divide by total persons to get percentages\n",
    "df_per = df_tot.div(codes[\"P_Tot_Total\"], axis=0)\n",
    "\n",
    "# Reattach codes (with raw totals included)\n",
    "df_per = pd.concat([codes, df_per], axis=1)\n",
    "\n",
    "rename_map = {\n",
    "    \"SA2_CODE_2021\": \"SA2_CODE_2021\",\n",
    "    \"P_PGrad_Deg_Total\": \"post_gradutae (%)\",\n",
    "    \"P_GradDip_and_GradCert_Total\": \"Graduate_diploma_certificate(%)\",\n",
    "    \"P_BachDeg_Total\": \"Bachelor (%)\",\n",
    "    \"P_AdvDip_and_Dip_Total\": \"Advanced_&_Diploma (%)\",\n",
    "    \"P_Cert_Lev_Tot_Total\": \"Certificate_level (%)\",\n",
    "    \"P_Tot_Total\": \"Total_persons\"   # will stay as raw number now\n",
    "}\n",
    "\n",
    "# Apply rename\n",
    "df_selected = df_per.rename(columns=rename_map)\n",
    "\n",
    "# Keep only renamed columns\n",
    "df_selected = df_selected[list(rename_map.values())]\n",
    "\n",
    "print(df_selected.head())\n",
    "\n",
    "df_education_cleaned = df_selected"
   ]
  },
  {
   "cell_type": "markdown",
   "id": "cf2602d4",
   "metadata": {},
   "source": [
    "Merging and deleting missing values"
   ]
  },
  {
   "cell_type": "code",
   "execution_count": null,
   "id": "41ace040",
   "metadata": {},
   "outputs": [
    {
     "data": {
      "text/plain": [
       "516"
      ]
     },
     "execution_count": 6,
     "metadata": {},
     "output_type": "execute_result"
    }
   ],
   "source": [
    "from functools import reduce\n",
    "\n",
    "# Put all dfs into a list\n",
    "dfs = [df_averages, df_tenure_cleaned, df_unemployment_cleaned, df_education_cleaned]\n",
    "\n",
    "# Merge them on SA2_CODE_2021\n",
    "df_merged = reduce(lambda left, right: pd.merge(left, right, on=\"SA2_CODE_2021\", how=\"inner\"), dfs)\n",
    "\n",
    "df_merged.head()\n",
    "\n",
    "\n",
    "df_clean = df_merged.dropna()\n",
    "\n",
    "len(df_clean)\n",
    "\n",
    "df_clean.to_csv(\"../data/processed/demographics/demographics_data.csv\")"
   ]
  },
  {
   "cell_type": "markdown",
   "id": "c052e7bf",
   "metadata": {},
   "source": [
    "Merging with shape file for geospatial analysis "
   ]
  },
  {
   "cell_type": "code",
   "execution_count": 10,
   "id": "76033df4",
   "metadata": {},
   "outputs": [
    {
     "name": "stdout",
     "output_type": "stream",
     "text": [
      "  SA2_CODE_2021     SA2_NAME21 SA3_CODE21 SA3_NAME21  \\\n",
      "0     201011001      Alfredton      20101   Ballarat   \n",
      "1     201011002       Ballarat      20101   Ballarat   \n",
      "2     201011005      Buninyong      20101   Ballarat   \n",
      "3     201011006      Delacombe      20101   Ballarat   \n",
      "4     201011007  Smythes Creek      20101   Ballarat   \n",
      "\n",
      "                                            geometry  Median_age_persons  \\\n",
      "0  POLYGON ((143.78282 -37.56666, 143.75558 -37.5...                  34   \n",
      "1  POLYGON ((143.81896 -37.55582, 143.81644 -37.5...                  45   \n",
      "2  POLYGON ((143.84171 -37.61596, 143.84176 -37.6...                  42   \n",
      "3  POLYGON ((143.7505 -37.59119, 143.75044 -37.59...                  33   \n",
      "4  POLYGON ((143.73296 -37.62333, 143.73263 -37.6...                  41   \n",
      "\n",
      "   Median_mortgage_repay_monthly  Median_tot_prsnl_inc_weekly  \\\n",
      "0                           1698                          865   \n",
      "1                           1700                          842   \n",
      "2                           1662                          805   \n",
      "3                           1500                          775   \n",
      "4                           1733                          802   \n",
      "\n",
      "   Median_rent_weekly  Median_tot_fam_inc_weekly  ...  Mortgage (%)  \\\n",
      "0                 370                       2218  ...      0.409335   \n",
      "1                 313                       2276  ...      0.245830   \n",
      "2                 330                       2270  ...      0.400872   \n",
      "3                 360                       1855  ...      0.447804   \n",
      "4                 350                       2236  ...      0.549821   \n",
      "\n",
      "   Total rented (%)  Other tenure (%)  Unemployment  post_gradutae (%)  \\\n",
      "0          0.282492          0.007635      0.036510           0.100185   \n",
      "1          0.337768          0.012311      0.044983           0.135089   \n",
      "2          0.142744          0.008327      0.035340           0.097846   \n",
      "3          0.256072          0.017829      0.046554           0.048293   \n",
      "4          0.040143          0.008602      0.032595           0.042786   \n",
      "\n",
      "   Graduate_diploma_certificate(%)  Bachelor (%)  Advanced_&_Diploma (%)  \\\n",
      "0                         0.057072      0.275849                0.158122   \n",
      "1                         0.074875      0.317722                0.145338   \n",
      "2                         0.079159      0.284973                0.154685   \n",
      "3                         0.033946      0.206506                0.145686   \n",
      "4                         0.050249      0.196020                0.166169   \n",
      "\n",
      "   Certificate_level (%)  Total_persons  \n",
      "0               0.326621           8095  \n",
      "1               0.211957           7025  \n",
      "2               0.287568           3853  \n",
      "3               0.454031           4949  \n",
      "4               0.464179           2010  \n",
      "\n",
      "[5 rows x 24 columns]\n",
      "Merged rows: 516\n"
     ]
    },
    {
     "name": "stderr",
     "output_type": "stream",
     "text": [
      "/var/folders/2w/84n_l6ld0kq5y9sp9jw4q50c0000gn/T/ipykernel_34174/157803588.py:15: SettingWithCopyWarning: \n",
      "A value is trying to be set on a copy of a slice from a DataFrame.\n",
      "Try using .loc[row_indexer,col_indexer] = value instead\n",
      "\n",
      "See the caveats in the documentation: https://pandas.pydata.org/pandas-docs/stable/user_guide/indexing.html#returning-a-view-versus-a-copy\n",
      "  df_clean[\"SA2_CODE_2021\"] = df_clean[\"SA2_CODE_2021\"].astype(str).str.zfill(9)\n"
     ]
    }
   ],
   "source": [
    "import geopandas as gpd\n",
    "\n",
    "# Load shapefile\n",
    "shp_path = \"../data/landing/boundaries/SA2_2021_AUST_GDA2020.shp\"\n",
    "sa2 = gpd.read_file(shp_path)\n",
    "\n",
    "# Rename to match your dataframe\n",
    "sa2 = sa2.rename(columns={\"SA2_CODE21\": \"SA2_CODE_2021\"})\n",
    "\n",
    "# Keep only selected geo columns + geometry\n",
    "sa2 = sa2[[\"SA2_CODE_2021\", \"SA2_NAME21\", \"SA3_CODE21\", \"SA3_NAME21\", \"geometry\"]]\n",
    "\n",
    "# Ensure SA2 codes are string with zero padding\n",
    "sa2[\"SA2_CODE_2021\"] = sa2[\"SA2_CODE_2021\"].astype(str).str.zfill(9)\n",
    "df_clean[\"SA2_CODE_2021\"] = df_clean[\"SA2_CODE_2021\"].astype(str).str.zfill(9)\n",
    "\n",
    "# Merge with census data\n",
    "gdf = sa2.merge(df_clean, on=\"SA2_CODE_2021\", how=\"inner\")\n",
    "\n",
    "print(gdf.head())\n",
    "print(f\"Merged rows: {len(gdf)}\")"
   ]
  },
  {
   "cell_type": "code",
   "execution_count": 11,
   "id": "500234b2",
   "metadata": {},
   "outputs": [
    {
     "name": "stdout",
     "output_type": "stream",
     "text": [
      "GeoJSON saved to ../data/processed/demographics/sa2_census.geojson\n"
     ]
    }
   ],
   "source": [
    "# Save to GeoJSON\n",
    "output_path = \"../data/processed/demographics/sa2_census.geojson\"\n",
    "gdf.to_file(output_path, driver=\"GeoJSON\")\n",
    "\n",
    "print(f\"GeoJSON saved to {output_path}\")"
   ]
  }
 ],
 "metadata": {
  "kernelspec": {
   "display_name": "base",
   "language": "python",
   "name": "python3"
  },
  "language_info": {
   "codemirror_mode": {
    "name": "ipython",
    "version": 3
   },
   "file_extension": ".py",
   "mimetype": "text/x-python",
   "name": "python",
   "nbconvert_exporter": "python",
   "pygments_lexer": "ipython3",
   "version": "3.12.2"
  }
 },
 "nbformat": 4,
 "nbformat_minor": 5
}
