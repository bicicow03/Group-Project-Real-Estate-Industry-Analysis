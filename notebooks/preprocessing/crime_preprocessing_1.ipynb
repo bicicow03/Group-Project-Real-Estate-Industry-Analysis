{
 "cells": [
  {
   "cell_type": "code",
   "execution_count": null,
   "id": "0965a6d2",
   "metadata": {},
   "outputs": [],
   "source": [
    "import pandas as pd"
   ]
  },
  {
   "cell_type": "code",
   "execution_count": null,
   "id": "4d696fef",
   "metadata": {},
   "outputs": [],
   "source": [
    "# Data Reading\n",
    "\n",
    "# Total Crime Stats\n",
    "df1 = pd.read_excel(\"../data/landing/crime/crime_by_lga_2025.xlsx\", sheet_name=\"Table 01\")\n",
    "\n",
    "# Individual Crime Stats\n",
    "df2 = pd.read_excel(\"../data/landing/crime/crime_by_lga_2025.xlsx\", sheet_name=\"Table 02\")\n"
   ]
  },
  {
   "cell_type": "code",
   "execution_count": null,
   "id": "682cd724",
   "metadata": {},
   "outputs": [],
   "source": [
    "len(df1),len(df2),"
   ]
  },
  {
   "cell_type": "code",
   "execution_count": null,
   "id": "a16d2b14",
   "metadata": {},
   "outputs": [],
   "source": [
    "# Standardize column names \n",
    "df1.columns = (\n",
    "    df1.columns.str.strip()\n",
    "              .str.lower()\n",
    "              .str.replace(\" \", \"_\")\n",
    "              .str.replace(\",\", \"\", regex=True)   # remove commas\n",
    "              .str.replace(r\"[()]\", \"\", regex=True)\n",
    ")\n",
    "\n",
    "# Remove totals\n",
    "df = df1[df1[\"local_government_area\"].str.lower() != \"total\"]\n",
    "\n",
    "# Strip whitespace from LGA names\n",
    "df1[\"local_government_area\"] = df1[\"local_government_area\"].str.strip()\n",
    "\n",
    "# Create population estimate \n",
    "df1[\"population_est\"] = (df1[\"incidents_recorded\"] / df1[\"rate_per_100000_population\"]) * 100000\n",
    "\n",
    "# Select useful columns (for merging later)\n",
    "df1 = df1[[\n",
    "    \"year\", \n",
    "    \"local_government_area\", \n",
    "    \"incidents_recorded\", \n",
    "    \"rate_per_100000_population\", \n",
    "    \"population_est\"\n",
    "]]\n",
    "\n",
    "print(df1.head())"
   ]
  },
  {
   "cell_type": "code",
   "execution_count": null,
   "id": "f4a1ac36",
   "metadata": {},
   "outputs": [],
   "source": [
    "# Feature Engineering DF1\n",
    "\n",
    "# Crime Density\n",
    "df1[\"crime_per_person\"] = df1[\"incidents_recorded\"] / df1[\"population_est\"]\n",
    "\n",
    "# Relative CI\n",
    "state_avg = df1[\"rate_per_100000_population\"].mean()\n",
    "df1[\"crime_index\"] = df1[\"rate_per_100000_population\"] / state_avg\n",
    "\n",
    "# Rank Crime\n",
    "df1[\"crime_rank\"] = df1[\"rate_per_100000_population\"].rank(ascending=False)\n",
    "\n",
    "print(df1.head(10))\n"
   ]
  },
  {
   "cell_type": "code",
   "execution_count": null,
   "id": "3fbff155",
   "metadata": {},
   "outputs": [],
   "source": [
    "# Standardize column names\n",
    "df2.columns = (\n",
    "    df2.columns.str.strip()\n",
    "               .str.lower()\n",
    "               .str.replace(\" \", \"_\")\n",
    "               .str.replace(\",\", \"\", regex=True)\n",
    "               .str.replace(r\"[()]\", \"\", regex=True)\n",
    ")\n",
    "\n",
    "# Drop totals\n",
    "df2 = df2[df2[\"local_government_area\"].str.lower() != \"total\"]\n",
    "\n",
    "# Clean LGA names\n",
    "df2[\"local_government_area\"] = df2[\"local_government_area\"].str.strip()\n",
    "\n",
    "# Population estimate\n",
    "df2[\"population_est\"] = (df2[\"incidents_recorded\"] / df2[\"lga_rate_per_100000_population\"]) * 100000\n",
    "\n",
    "# Crime share of each offence type within LGA\n",
    "df2[\"crime_share\"] = df2[\"incidents_recorded\"] / df2.groupby(\n",
    "    [\"year\", \"local_government_area\"]\n",
    ")[\"incidents_recorded\"].transform(\"sum\")\n",
    "\n",
    "# Add a high-level grouping: violent vs property \n",
    "violent_keywords = [\"assault\", \"homicide\", \"sexual\", \"robbery\", \"abduction\"]\n",
    "df2[\"crime_type\"] = df2[\"offence_division\"].str.lower().apply(\n",
    "    lambda x: \"violent\" if any(k in x for k in violent_keywords) else \"property\"\n",
    ")\n",
    "\n",
    "# Keep useful columns for analysis\n",
    "df2_clean = df2[[\n",
    "    \"year\", \n",
    "    \"local_government_area\", \n",
    "    \"offence_division\", \n",
    "    \"offence_subdivision\", \n",
    "    \"offence_subgroup\", \n",
    "    \"incidents_recorded\", \n",
    "    \"lga_rate_per_100000_population\", \n",
    "    \"population_est\", \n",
    "    \"crime_share\", \n",
    "    \"crime_type\"\n",
    "]]\n",
    "\n",
    "print(df2_clean.head())"
   ]
  },
  {
   "cell_type": "code",
   "execution_count": null,
   "id": "3850cef1",
   "metadata": {},
   "outputs": [],
   "source": [
    "# Feature Engineering DF2\n",
    "\n",
    "# Violent vs Property Ratios\n",
    "violent = df2[df2[\"crime_type\"]==\"violent\"].groupby(\"local_government_area\")[\"incidents_recorded\"].sum()\n",
    "property = df2[df2[\"crime_type\"]==\"property\"].groupby(\"local_government_area\")[\"incidents_recorded\"].sum()\n",
    "ratio = (violent / property).fillna(0)\n",
    "\n",
    "# Top Crime Type\n",
    "top_share = df2.groupby([\"local_government_area\"])[\"crime_share\"].max().reset_index(name=\"top_crime_share\")\n",
    "\n"
   ]
  },
  {
   "cell_type": "code",
   "execution_count": null,
   "id": "5d909cb4",
   "metadata": {},
   "outputs": [],
   "source": [
    "# Preview\n",
    "print(df2.head(10))\n",
    "\n",
    "# Group summary\n",
    "violent_summary = df2[df2[\"crime_type\"]==\"violent\"].groupby(\"local_government_area\")[\"incidents_recorded\"].sum()\n",
    "property_summary = df2[df2[\"crime_type\"]==\"property\"].groupby(\"local_government_area\")[\"incidents_recorded\"].sum()\n",
    "\n",
    "print(\"Violent crimes by LGA:\")\n",
    "print(violent_summary.head())\n",
    "\n",
    "print(\"Property crimes by LGA:\")\n",
    "print(property_summary.head())"
   ]
  }
 ],
 "metadata": {
  "kernelspec": {
   "display_name": "Python 3",
   "language": "python",
   "name": "python3"
  },
  "language_info": {
   "codemirror_mode": {
    "name": "ipython",
    "version": 3
   },
   "file_extension": ".py",
   "mimetype": "text/x-python",
   "name": "python",
   "nbconvert_exporter": "python",
   "pygments_lexer": "ipython3",
   "version": "3.12.10"
  }
 },
 "nbformat": 4,
 "nbformat_minor": 5
}
