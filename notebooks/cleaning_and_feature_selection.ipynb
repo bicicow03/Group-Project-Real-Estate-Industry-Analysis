{
 "cells": [
  {
   "cell_type": "code",
   "execution_count": 1,
   "id": "1034061f",
   "metadata": {},
   "outputs": [
    {
     "name": "stderr",
     "output_type": "stream",
     "text": [
      "c:\\Users\\bachk\\anaconda3\\Lib\\site-packages\\pandas\\core\\arrays\\masked.py:61: UserWarning: Pandas requires version '1.3.6' or newer of 'bottleneck' (version '1.3.5' currently installed).\n",
      "  from pandas.core import (\n"
     ]
    }
   ],
   "source": [
    "import pandas as pd\n",
    "import numpy as np"
   ]
  },
  {
   "cell_type": "code",
   "execution_count": 21,
   "id": "1b9ba2e1",
   "metadata": {},
   "outputs": [
    {
     "name": "stderr",
     "output_type": "stream",
     "text": [
      "C:\\Users\\bachk\\AppData\\Local\\Temp\\ipykernel_20868\\1274890271.py:1: DtypeWarning: Columns (18,23) have mixed types. Specify dtype option on import or set low_memory=False.\n",
      "  data = pd.read_csv('../data/processed/real_estate/vic_rentals_all_enriched.csv')\n"
     ]
    },
    {
     "data": {
      "text/plain": [
       "(17019, 64)"
      ]
     },
     "execution_count": 21,
     "metadata": {},
     "output_type": "execute_result"
    }
   ],
   "source": [
    "data = pd.read_csv('../data/processed/real_estate/vic_rentals_all_enriched.csv')\n",
    "data.shape"
   ]
  },
  {
   "cell_type": "code",
   "execution_count": 22,
   "id": "c81a030b",
   "metadata": {},
   "outputs": [
    {
     "name": "stdout",
     "output_type": "stream",
     "text": [
      "[('listing_id', 0), ('suburb', 0), ('postcode', 0), ('weekly_rent', 396), ('bond', 1106), ('available_date', 163), ('date_listed', 4), ('days_listed', 4), ('bedrooms', 143), ('bathrooms', 60), ('carspaces', 2265), ('property_type', 0), ('address', 113), ('lat', 4), ('lon', 4), ('photo_count', 4), ('video_count', 4), ('floorplans_count', 4), ('virtual_tour', 4), ('primary_type', 4), ('secondary_type', 4), ('agency', 5), ('agent_names', 321), ('land_area', 17017), ('num_metro_bus_stops', 0), ('num_metro_tram_stops', 0), ('num_metro_train_stops', 0), ('num_regional_bus_stops', 0), ('num_regional_train_stops', 0), ('num_schools_2km', 0), ('Median_age_persons', 4), ('Median_mortgage_repay_monthly', 4), ('Median_tot_prsnl_inc_weekly', 4), ('Median_rent_weekly', 4), ('Median_tot_fam_inc_weekly', 4), ('Average_num_psns_per_bedroom', 4), ('Median_tot_hhd_inc_weekly', 4), ('Average_household_size', 4), ('Owner occupied (%)', 4), ('Mortgage (%)', 4), ('Total rented (%)', 4), ('Other tenure (%)', 4), ('Unemployment', 4), ('post_gradutae (%)', 4), ('Graduate_diploma_certificate(%)', 4), ('Bachelor (%)', 4), ('Advanced_&_Diploma (%)', 4), ('Certificate_level (%)', 4), ('Total_persons', 4), ('Population-2023', 0), ('suburbs_id', 12259), ('loc_name', 12259), ('lga_name', 12259), ('area_ha', 12259), ('index_right', 12259), ('LGA_NAME25', 12259), ('year', 12259), ('local_government_area', 12259), ('incidents_recorded', 12259), ('rate_per_100000_population', 12259), ('population_est', 12259), ('crime_per_person', 12259), ('crime_index', 12259), ('crime_rank', 12259)]\n"
     ]
    }
   ],
   "source": [
    "missing_list = [(col, data[col].isnull().sum()) for col in data.columns]\n",
    "print(missing_list)"
   ]
  },
  {
   "cell_type": "code",
   "execution_count": null,
   "id": "e3b8daa9",
   "metadata": {},
   "outputs": [],
   "source": [
    "#Drop rows with small number of missing values\n",
    "data = data.dropna(subset=['date_listed', 'lat', 'lon', 'bedrooms', 'bathrooms'])"
   ]
  },
  {
   "cell_type": "code",
   "execution_count": 4,
   "id": "62bbe819",
   "metadata": {},
   "outputs": [
    {
     "data": {
      "text/plain": [
       "(16864, 64)"
      ]
     },
     "execution_count": 4,
     "metadata": {},
     "output_type": "execute_result"
    }
   ],
   "source": [
    "data.shape"
   ]
  },
  {
   "cell_type": "code",
   "execution_count": 5,
   "id": "4dd20b73",
   "metadata": {},
   "outputs": [],
   "source": [
    "#Impute average rent for each combination of suburb, property_type, bedrooms, and bathrooms\n",
    "# Create a lookup dictionary for average weekly rent\n",
    "rent_lookup = (\n",
    "    data.groupby(['suburb', 'property_type', 'bedrooms', 'bathrooms'])['weekly_rent']\n",
    "    .mean()\n",
    "    .round(0)   # optional: round to 0 decimals\n",
    "    .to_dict()\n",
    ")"
   ]
  },
  {
   "cell_type": "code",
   "execution_count": 6,
   "id": "6c138a94",
   "metadata": {},
   "outputs": [],
   "source": [
    "#Impute missing weekly_rent values\n",
    "for idx, row in data.iterrows():\n",
    "    if pd.isnull(row['weekly_rent']):\n",
    "        key = (row['suburb'], row['property_type'], row['bedrooms'], row['bathrooms'])\n",
    "        if key in rent_lookup:  # only impute if lookup exists\n",
    "            data.at[idx, 'weekly_rent'] = rent_lookup[key]"
   ]
  },
  {
   "cell_type": "code",
   "execution_count": 7,
   "id": "cdcbcb19",
   "metadata": {},
   "outputs": [
    {
     "name": "stdout",
     "output_type": "stream",
     "text": [
      "[('listing_id', 0), ('suburb', 0), ('postcode', 0), ('weekly_rent', 113), ('bond', 1080), ('available_date', 153), ('date_listed', 0), ('days_listed', 0), ('bedrooms', 0), ('bathrooms', 0), ('carspaces', 2175), ('property_type', 0), ('address', 107), ('lat', 0), ('lon', 0), ('photo_count', 0), ('video_count', 0), ('floorplans_count', 0), ('virtual_tour', 0), ('primary_type', 0), ('secondary_type', 0), ('agency', 1), ('agent_names', 301), ('land_area', 16862), ('num_metro_bus_stops', 0), ('num_metro_tram_stops', 0), ('num_metro_train_stops', 0), ('num_regional_bus_stops', 0), ('num_regional_train_stops', 0), ('num_schools_2km', 0), ('Median_age_persons', 0), ('Median_mortgage_repay_monthly', 0), ('Median_tot_prsnl_inc_weekly', 0), ('Median_rent_weekly', 0), ('Median_tot_fam_inc_weekly', 0), ('Average_num_psns_per_bedroom', 0), ('Median_tot_hhd_inc_weekly', 0), ('Average_household_size', 0), ('Owner occupied (%)', 0), ('Mortgage (%)', 0), ('Total rented (%)', 0), ('Other tenure (%)', 0), ('Unemployment', 0), ('post_gradutae (%)', 0), ('Graduate_diploma_certificate(%)', 0), ('Bachelor (%)', 0), ('Advanced_&_Diploma (%)', 0), ('Certificate_level (%)', 0), ('Total_persons', 0), ('Population-2023', 0), ('suburbs_id', 12124), ('loc_name', 12124), ('lga_name', 12124), ('area_ha', 12124), ('index_right', 12124), ('LGA_NAME25', 12124), ('year', 12124), ('local_government_area', 12124), ('incidents_recorded', 12124), ('rate_per_100000_population', 12124), ('population_est', 12124), ('crime_per_person', 12124), ('crime_index', 12124), ('crime_rank', 12124)]\n"
     ]
    }
   ],
   "source": [
    "#Check for missing values again\n",
    "missing_list = [(col, data[col].isnull().sum()) for col in data.columns]\n",
    "print(missing_list)"
   ]
  },
  {
   "cell_type": "code",
   "execution_count": null,
   "id": "a8b228de",
   "metadata": {},
   "outputs": [],
   "source": [
    "#Impute average rent with relaxed contraints (without bathrooms and suburb) to fill rest of missing values\n",
    "#Create a lookup dictionary for average weekly rent\n",
    "rent_lookup = (\n",
    "    data.groupby(['property_type', 'bedrooms'])['weekly_rent']\n",
    "    .mean()\n",
    "    .round(0)   # optional: round to 0 decimals\n",
    "    .to_dict()\n",
    ")"
   ]
  },
  {
   "cell_type": "code",
   "execution_count": 9,
   "id": "bbb699ea",
   "metadata": {},
   "outputs": [],
   "source": [
    "#Impute missing weekly_rent values\n",
    "for idx, row in data.iterrows():\n",
    "    if pd.isnull(row['weekly_rent']):\n",
    "        key = (row['property_type'], row['bedrooms'])\n",
    "        if key in rent_lookup:  # only impute if lookup exists\n",
    "            data.at[idx, 'weekly_rent'] = rent_lookup[key]"
   ]
  },
  {
   "cell_type": "code",
   "execution_count": 10,
   "id": "1253358b",
   "metadata": {},
   "outputs": [
    {
     "name": "stdout",
     "output_type": "stream",
     "text": [
      "[('listing_id', 0), ('suburb', 0), ('postcode', 0), ('weekly_rent', 2), ('bond', 1080), ('available_date', 153), ('date_listed', 0), ('days_listed', 0), ('bedrooms', 0), ('bathrooms', 0), ('carspaces', 2175), ('property_type', 0), ('address', 107), ('lat', 0), ('lon', 0), ('photo_count', 0), ('video_count', 0), ('floorplans_count', 0), ('virtual_tour', 0), ('primary_type', 0), ('secondary_type', 0), ('agency', 1), ('agent_names', 301), ('land_area', 16862), ('num_metro_bus_stops', 0), ('num_metro_tram_stops', 0), ('num_metro_train_stops', 0), ('num_regional_bus_stops', 0), ('num_regional_train_stops', 0), ('num_schools_2km', 0), ('Median_age_persons', 0), ('Median_mortgage_repay_monthly', 0), ('Median_tot_prsnl_inc_weekly', 0), ('Median_rent_weekly', 0), ('Median_tot_fam_inc_weekly', 0), ('Average_num_psns_per_bedroom', 0), ('Median_tot_hhd_inc_weekly', 0), ('Average_household_size', 0), ('Owner occupied (%)', 0), ('Mortgage (%)', 0), ('Total rented (%)', 0), ('Other tenure (%)', 0), ('Unemployment', 0), ('post_gradutae (%)', 0), ('Graduate_diploma_certificate(%)', 0), ('Bachelor (%)', 0), ('Advanced_&_Diploma (%)', 0), ('Certificate_level (%)', 0), ('Total_persons', 0), ('Population-2023', 0), ('suburbs_id', 12124), ('loc_name', 12124), ('lga_name', 12124), ('area_ha', 12124), ('index_right', 12124), ('LGA_NAME25', 12124), ('year', 12124), ('local_government_area', 12124), ('incidents_recorded', 12124), ('rate_per_100000_population', 12124), ('population_est', 12124), ('crime_per_person', 12124), ('crime_index', 12124), ('crime_rank', 12124)]\n"
     ]
    }
   ],
   "source": [
    "#Check for missing values again\n",
    "missing_list = [(col, data[col].isnull().sum()) for col in data.columns]\n",
    "print(missing_list)"
   ]
  },
  {
   "cell_type": "code",
   "execution_count": 11,
   "id": "560320d5",
   "metadata": {},
   "outputs": [],
   "source": [
    "data = data.dropna(subset=['weekly_rent'])"
   ]
  },
  {
   "cell_type": "code",
   "execution_count": 13,
   "id": "f065ab54",
   "metadata": {},
   "outputs": [],
   "source": [
    "#Impute average carspaces for each combination of suburb, property_type, bedrooms, and bathrooms\n",
    "# Create a lookup dictionary for average carspaces\n",
    "carspace_lookup = (\n",
    "    data.groupby(['suburb', 'property_type', 'bedrooms', 'bathrooms'])['carspaces']\n",
    "    .mean()\n",
    "    .round(0)   # optional: round to 0 decimals\n",
    "    .to_dict()\n",
    ")"
   ]
  },
  {
   "cell_type": "code",
   "execution_count": 14,
   "id": "4feb34f6",
   "metadata": {},
   "outputs": [],
   "source": [
    "#Impute missing carspaces values\n",
    "for idx, row in data.iterrows():\n",
    "    if pd.isnull(row['carspaces']):\n",
    "        key = (row['suburb'], row['property_type'], row['bedrooms'], row['bathrooms'])\n",
    "        if key in carspace_lookup:  # only impute if lookup exists\n",
    "            data.at[idx, 'carspaces'] = carspace_lookup[key]"
   ]
  },
  {
   "cell_type": "code",
   "execution_count": 15,
   "id": "05c283c2",
   "metadata": {},
   "outputs": [
    {
     "name": "stdout",
     "output_type": "stream",
     "text": [
      "[('listing_id', 0), ('suburb', 0), ('postcode', 0), ('weekly_rent', 0), ('bond', 1080), ('available_date', 153), ('date_listed', 0), ('days_listed', 0), ('bedrooms', 0), ('bathrooms', 0), ('carspaces', 500), ('property_type', 0), ('address', 107), ('lat', 0), ('lon', 0), ('photo_count', 0), ('video_count', 0), ('floorplans_count', 0), ('virtual_tour', 0), ('primary_type', 0), ('secondary_type', 0), ('agency', 1), ('agent_names', 301), ('land_area', 16860), ('num_metro_bus_stops', 0), ('num_metro_tram_stops', 0), ('num_metro_train_stops', 0), ('num_regional_bus_stops', 0), ('num_regional_train_stops', 0), ('num_schools_2km', 0), ('Median_age_persons', 0), ('Median_mortgage_repay_monthly', 0), ('Median_tot_prsnl_inc_weekly', 0), ('Median_rent_weekly', 0), ('Median_tot_fam_inc_weekly', 0), ('Average_num_psns_per_bedroom', 0), ('Median_tot_hhd_inc_weekly', 0), ('Average_household_size', 0), ('Owner occupied (%)', 0), ('Mortgage (%)', 0), ('Total rented (%)', 0), ('Other tenure (%)', 0), ('Unemployment', 0), ('post_gradutae (%)', 0), ('Graduate_diploma_certificate(%)', 0), ('Bachelor (%)', 0), ('Advanced_&_Diploma (%)', 0), ('Certificate_level (%)', 0), ('Total_persons', 0), ('Population-2023', 0), ('suburbs_id', 12122), ('loc_name', 12122), ('lga_name', 12122), ('area_ha', 12122), ('index_right', 12122), ('LGA_NAME25', 12122), ('year', 12122), ('local_government_area', 12122), ('incidents_recorded', 12122), ('rate_per_100000_population', 12122), ('population_est', 12122), ('crime_per_person', 12122), ('crime_index', 12122), ('crime_rank', 12122)]\n"
     ]
    }
   ],
   "source": [
    "#Check for missing values again\n",
    "missing_list = [(col, data[col].isnull().sum()) for col in data.columns]\n",
    "print(missing_list)"
   ]
  },
  {
   "cell_type": "code",
   "execution_count": 16,
   "id": "37415779",
   "metadata": {},
   "outputs": [],
   "source": [
    "#Impute average carspaces with relaxed contraints (without bathrooms) to fill rest of missing values\n",
    "# Create a lookup dictionary for average carspaces\n",
    "carspace_lookup = (\n",
    "    data.groupby(['property_type', 'bedrooms'])['carspaces']\n",
    "    .mean()\n",
    "    .round(0)   # optional: round to 0 decimals\n",
    "    .to_dict()\n",
    ")"
   ]
  },
  {
   "cell_type": "code",
   "execution_count": 17,
   "id": "f0ddced1",
   "metadata": {},
   "outputs": [],
   "source": [
    "#Impute missing carspaces values\n",
    "for idx, row in data.iterrows():\n",
    "    if pd.isnull(row['carspaces']):\n",
    "        key = ( row['property_type'], row['bedrooms'])\n",
    "        if key in carspace_lookup:  # only impute if lookup exists\n",
    "            data.at[idx, 'carspaces'] = carspace_lookup[key]"
   ]
  },
  {
   "cell_type": "code",
   "execution_count": 18,
   "id": "1d584fee",
   "metadata": {},
   "outputs": [
    {
     "name": "stdout",
     "output_type": "stream",
     "text": [
      "[('listing_id', 0), ('suburb', 0), ('postcode', 0), ('weekly_rent', 0), ('bond', 1080), ('available_date', 153), ('date_listed', 0), ('days_listed', 0), ('bedrooms', 0), ('bathrooms', 0), ('carspaces', 10), ('property_type', 0), ('address', 107), ('lat', 0), ('lon', 0), ('photo_count', 0), ('video_count', 0), ('floorplans_count', 0), ('virtual_tour', 0), ('primary_type', 0), ('secondary_type', 0), ('agency', 1), ('agent_names', 301), ('land_area', 16860), ('num_metro_bus_stops', 0), ('num_metro_tram_stops', 0), ('num_metro_train_stops', 0), ('num_regional_bus_stops', 0), ('num_regional_train_stops', 0), ('num_schools_2km', 0), ('Median_age_persons', 0), ('Median_mortgage_repay_monthly', 0), ('Median_tot_prsnl_inc_weekly', 0), ('Median_rent_weekly', 0), ('Median_tot_fam_inc_weekly', 0), ('Average_num_psns_per_bedroom', 0), ('Median_tot_hhd_inc_weekly', 0), ('Average_household_size', 0), ('Owner occupied (%)', 0), ('Mortgage (%)', 0), ('Total rented (%)', 0), ('Other tenure (%)', 0), ('Unemployment', 0), ('post_gradutae (%)', 0), ('Graduate_diploma_certificate(%)', 0), ('Bachelor (%)', 0), ('Advanced_&_Diploma (%)', 0), ('Certificate_level (%)', 0), ('Total_persons', 0), ('Population-2023', 0), ('suburbs_id', 12122), ('loc_name', 12122), ('lga_name', 12122), ('area_ha', 12122), ('index_right', 12122), ('LGA_NAME25', 12122), ('year', 12122), ('local_government_area', 12122), ('incidents_recorded', 12122), ('rate_per_100000_population', 12122), ('population_est', 12122), ('crime_per_person', 12122), ('crime_index', 12122), ('crime_rank', 12122)]\n"
     ]
    }
   ],
   "source": [
    "#Check for missing values again\n",
    "missing_list = [(col, data[col].isnull().sum()) for col in data.columns]\n",
    "print(missing_list)"
   ]
  },
  {
   "cell_type": "code",
   "execution_count": 23,
   "id": "00045a10",
   "metadata": {},
   "outputs": [],
   "source": [
    "data = data.dropna(subset=['carspaces'])"
   ]
  }
 ],
 "metadata": {
  "kernelspec": {
   "display_name": "base",
   "language": "python",
   "name": "python3"
  },
  "language_info": {
   "codemirror_mode": {
    "name": "ipython",
    "version": 3
   },
   "file_extension": ".py",
   "mimetype": "text/x-python",
   "name": "python",
   "nbconvert_exporter": "python",
   "pygments_lexer": "ipython3",
   "version": "3.11.5"
  }
 },
 "nbformat": 4,
 "nbformat_minor": 5
}
