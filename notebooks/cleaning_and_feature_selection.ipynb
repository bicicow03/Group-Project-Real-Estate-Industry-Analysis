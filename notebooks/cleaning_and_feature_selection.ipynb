{
 "cells": [
  {
   "cell_type": "code",
   "execution_count": 107,
   "id": "1034061f",
   "metadata": {},
   "outputs": [],
   "source": [
    "import pandas as pd\n",
    "import numpy as np"
   ]
  },
  {
   "cell_type": "code",
   "execution_count": 108,
   "id": "1b9ba2e1",
   "metadata": {},
   "outputs": [
    {
     "data": {
      "text/plain": [
       "(12717, 50)"
      ]
     },
     "execution_count": 108,
     "metadata": {},
     "output_type": "execute_result"
    }
   ],
   "source": [
    "data = pd.read_csv('../data/processed/real_estate/vic_rentals_all_enriched.csv')\n",
    "data.shape"
   ]
  },
  {
   "cell_type": "markdown",
   "id": "f05d27e5",
   "metadata": {},
   "source": [
    "#### Find how many null values per feature"
   ]
  },
  {
   "cell_type": "code",
   "execution_count": 109,
   "id": "c81a030b",
   "metadata": {},
   "outputs": [
    {
     "data": {
      "text/plain": [
       "[('listing_id', np.int64(0)),\n",
       " ('suburb', np.int64(0)),\n",
       " ('postcode', np.int64(0)),\n",
       " ('weekly_rent', np.int64(279)),\n",
       " ('bond', np.int64(782)),\n",
       " ('available_date', np.int64(136)),\n",
       " ('date_listed', np.int64(4)),\n",
       " ('days_listed', np.int64(4)),\n",
       " ('bedrooms', np.int64(125)),\n",
       " ('bathrooms', np.int64(51)),\n",
       " ('carspaces', np.int64(1803)),\n",
       " ('property_type', np.int64(0)),\n",
       " ('address', np.int64(104)),\n",
       " ('lat', np.int64(4)),\n",
       " ('lon', np.int64(4)),\n",
       " ('photo_count', np.int64(4)),\n",
       " ('video_count', np.int64(4)),\n",
       " ('floorplans_count', np.int64(4)),\n",
       " ('virtual_tour', np.int64(4)),\n",
       " ('primary_type', np.int64(4)),\n",
       " ('secondary_type', np.int64(4)),\n",
       " ('agency', np.int64(5)),\n",
       " ('agent_names', np.int64(248)),\n",
       " ('land_area', np.int64(12715)),\n",
       " ('num_metro_bus_stops', np.int64(0)),\n",
       " ('num_metro_tram_stops', np.int64(0)),\n",
       " ('num_metro_train_stops', np.int64(0)),\n",
       " ('num_regional_bus_stops', np.int64(0)),\n",
       " ('num_regional_train_stops', np.int64(0)),\n",
       " ('num_schools_2km', np.int64(0)),\n",
       " ('Median_age_persons', np.int64(4)),\n",
       " ('Median_mortgage_repay_monthly', np.int64(4)),\n",
       " ('Median_tot_prsnl_inc_weekly', np.int64(4)),\n",
       " ('Median_rent_weekly', np.int64(4)),\n",
       " ('Median_tot_fam_inc_weekly', np.int64(4)),\n",
       " ('Average_num_psns_per_bedroom', np.int64(4)),\n",
       " ('Median_tot_hhd_inc_weekly', np.int64(4)),\n",
       " ('Average_household_size', np.int64(4)),\n",
       " ('Owner occupied (%)', np.int64(4)),\n",
       " ('Mortgage (%)', np.int64(4)),\n",
       " ('Total rented (%)', np.int64(4)),\n",
       " ('Other tenure (%)', np.int64(4)),\n",
       " ('Unemployment', np.int64(4)),\n",
       " ('post_gradutae (%)', np.int64(4)),\n",
       " ('Graduate_diploma_certificate(%)', np.int64(4)),\n",
       " ('Bachelor (%)', np.int64(4)),\n",
       " ('Advanced_&_Diploma (%)', np.int64(4)),\n",
       " ('Certificate_level (%)', np.int64(4)),\n",
       " ('Total_persons', np.int64(4)),\n",
       " ('Population-2023', np.int64(0))]"
      ]
     },
     "execution_count": 109,
     "metadata": {},
     "output_type": "execute_result"
    }
   ],
   "source": [
    "missing_list = [(col, data[col].isnull().sum()) for col in data.columns]\n",
    "missing_list"
   ]
  },
  {
   "cell_type": "markdown",
   "id": "116bc1a1",
   "metadata": {},
   "source": [
    "#### Drop rows with small number of missing values"
   ]
  },
  {
   "cell_type": "code",
   "execution_count": 110,
   "id": "e3b8daa9",
   "metadata": {},
   "outputs": [],
   "source": [
    "# data = data.dropna(subset=['date_listed', 'lat', 'lon', 'bedrooms', 'bathrooms'])"
   ]
  },
  {
   "cell_type": "code",
   "execution_count": 111,
   "id": "62bbe819",
   "metadata": {},
   "outputs": [
    {
     "data": {
      "text/plain": [
       "(12717, 50)"
      ]
     },
     "execution_count": 111,
     "metadata": {},
     "output_type": "execute_result"
    }
   ],
   "source": [
    "data.shape"
   ]
  },
  {
   "cell_type": "markdown",
   "id": "6cdd6189",
   "metadata": {},
   "source": [
    "### Imputation"
   ]
  },
  {
   "cell_type": "code",
   "execution_count": 112,
   "id": "4dd20b73",
   "metadata": {},
   "outputs": [],
   "source": [
    "#Impute average rent for each combination of suburb, property_type, bedrooms, and bathrooms\n",
    "# Create a lookup dictionary for average weekly rent\n",
    "rent_lookup = (\n",
    "    data.groupby(['suburb', 'property_type', 'bedrooms', 'bathrooms'])['weekly_rent']\n",
    "    .mean()\n",
    "    .round(0)   # optional: round to 0 decimals\n",
    "    .to_dict()\n",
    ")"
   ]
  },
  {
   "cell_type": "code",
   "execution_count": 113,
   "id": "6c138a94",
   "metadata": {},
   "outputs": [],
   "source": [
    "#Impute missing weekly_rent values\n",
    "for idx, row in data.iterrows():\n",
    "    if pd.isnull(row['weekly_rent']):\n",
    "        key = (row['suburb'], row['property_type'], row['bedrooms'], row['bathrooms'])\n",
    "        if key in rent_lookup:  # only impute if lookup exists\n",
    "            data.at[idx, 'weekly_rent'] = rent_lookup[key]"
   ]
  },
  {
   "cell_type": "code",
   "execution_count": 114,
   "id": "cdcbcb19",
   "metadata": {},
   "outputs": [
    {
     "name": "stdout",
     "output_type": "stream",
     "text": [
      "[('listing_id', np.int64(0)), ('suburb', np.int64(0)), ('postcode', np.int64(0)), ('weekly_rent', np.int64(78)), ('bond', np.int64(782)), ('available_date', np.int64(136)), ('date_listed', np.int64(4)), ('days_listed', np.int64(4)), ('bedrooms', np.int64(125)), ('bathrooms', np.int64(51)), ('carspaces', np.int64(1803)), ('property_type', np.int64(0)), ('address', np.int64(104)), ('lat', np.int64(4)), ('lon', np.int64(4)), ('photo_count', np.int64(4)), ('video_count', np.int64(4)), ('floorplans_count', np.int64(4)), ('virtual_tour', np.int64(4)), ('primary_type', np.int64(4)), ('secondary_type', np.int64(4)), ('agency', np.int64(5)), ('agent_names', np.int64(248)), ('land_area', np.int64(12715)), ('num_metro_bus_stops', np.int64(0)), ('num_metro_tram_stops', np.int64(0)), ('num_metro_train_stops', np.int64(0)), ('num_regional_bus_stops', np.int64(0)), ('num_regional_train_stops', np.int64(0)), ('num_schools_2km', np.int64(0)), ('Median_age_persons', np.int64(4)), ('Median_mortgage_repay_monthly', np.int64(4)), ('Median_tot_prsnl_inc_weekly', np.int64(4)), ('Median_rent_weekly', np.int64(4)), ('Median_tot_fam_inc_weekly', np.int64(4)), ('Average_num_psns_per_bedroom', np.int64(4)), ('Median_tot_hhd_inc_weekly', np.int64(4)), ('Average_household_size', np.int64(4)), ('Owner occupied (%)', np.int64(4)), ('Mortgage (%)', np.int64(4)), ('Total rented (%)', np.int64(4)), ('Other tenure (%)', np.int64(4)), ('Unemployment', np.int64(4)), ('post_gradutae (%)', np.int64(4)), ('Graduate_diploma_certificate(%)', np.int64(4)), ('Bachelor (%)', np.int64(4)), ('Advanced_&_Diploma (%)', np.int64(4)), ('Certificate_level (%)', np.int64(4)), ('Total_persons', np.int64(4)), ('Population-2023', np.int64(0))]\n"
     ]
    }
   ],
   "source": [
    "#Check for missing values again\n",
    "missing_list = [(col, data[col].isnull().sum()) for col in data.columns]\n",
    "print(missing_list)"
   ]
  },
  {
   "cell_type": "code",
   "execution_count": 115,
   "id": "a8b228de",
   "metadata": {},
   "outputs": [],
   "source": [
    "#Impute average rent with relaxed contraints (without bathrooms and suburb) to fill rest of missing values\n",
    "#Create a lookup dictionary for average weekly rent\n",
    "rent_lookup = (\n",
    "    data.groupby(['property_type', 'bedrooms'])['weekly_rent']\n",
    "    .mean()\n",
    "    .round(0)   # optional: round to 0 decimals\n",
    "    .to_dict()\n",
    ")"
   ]
  },
  {
   "cell_type": "code",
   "execution_count": 116,
   "id": "bbb699ea",
   "metadata": {},
   "outputs": [],
   "source": [
    "#Impute missing weekly_rent values\n",
    "for idx, row in data.iterrows():\n",
    "    if pd.isnull(row['weekly_rent']):\n",
    "        key = (row['property_type'], row['bedrooms'])\n",
    "        if key in rent_lookup:  # only impute if lookup exists\n",
    "            data.at[idx, 'weekly_rent'] = rent_lookup[key]"
   ]
  },
  {
   "cell_type": "code",
   "execution_count": 117,
   "id": "1253358b",
   "metadata": {},
   "outputs": [
    {
     "name": "stdout",
     "output_type": "stream",
     "text": [
      "[('listing_id', np.int64(0)), ('suburb', np.int64(0)), ('postcode', np.int64(0)), ('weekly_rent', np.int64(19)), ('bond', np.int64(782)), ('available_date', np.int64(136)), ('date_listed', np.int64(4)), ('days_listed', np.int64(4)), ('bedrooms', np.int64(125)), ('bathrooms', np.int64(51)), ('carspaces', np.int64(1803)), ('property_type', np.int64(0)), ('address', np.int64(104)), ('lat', np.int64(4)), ('lon', np.int64(4)), ('photo_count', np.int64(4)), ('video_count', np.int64(4)), ('floorplans_count', np.int64(4)), ('virtual_tour', np.int64(4)), ('primary_type', np.int64(4)), ('secondary_type', np.int64(4)), ('agency', np.int64(5)), ('agent_names', np.int64(248)), ('land_area', np.int64(12715)), ('num_metro_bus_stops', np.int64(0)), ('num_metro_tram_stops', np.int64(0)), ('num_metro_train_stops', np.int64(0)), ('num_regional_bus_stops', np.int64(0)), ('num_regional_train_stops', np.int64(0)), ('num_schools_2km', np.int64(0)), ('Median_age_persons', np.int64(4)), ('Median_mortgage_repay_monthly', np.int64(4)), ('Median_tot_prsnl_inc_weekly', np.int64(4)), ('Median_rent_weekly', np.int64(4)), ('Median_tot_fam_inc_weekly', np.int64(4)), ('Average_num_psns_per_bedroom', np.int64(4)), ('Median_tot_hhd_inc_weekly', np.int64(4)), ('Average_household_size', np.int64(4)), ('Owner occupied (%)', np.int64(4)), ('Mortgage (%)', np.int64(4)), ('Total rented (%)', np.int64(4)), ('Other tenure (%)', np.int64(4)), ('Unemployment', np.int64(4)), ('post_gradutae (%)', np.int64(4)), ('Graduate_diploma_certificate(%)', np.int64(4)), ('Bachelor (%)', np.int64(4)), ('Advanced_&_Diploma (%)', np.int64(4)), ('Certificate_level (%)', np.int64(4)), ('Total_persons', np.int64(4)), ('Population-2023', np.int64(0))]\n"
     ]
    }
   ],
   "source": [
    "#Check for missing values again\n",
    "missing_list = [(col, data[col].isnull().sum()) for col in data.columns]\n",
    "print(missing_list)"
   ]
  },
  {
   "cell_type": "code",
   "execution_count": 118,
   "id": "560320d5",
   "metadata": {},
   "outputs": [],
   "source": [
    "data = data.dropna(subset=['weekly_rent'])"
   ]
  },
  {
   "cell_type": "code",
   "execution_count": 119,
   "id": "f065ab54",
   "metadata": {},
   "outputs": [],
   "source": [
    "#Impute average carspaces for each combination of suburb, property_type, bedrooms, and bathrooms\n",
    "# Create a lookup dictionary for average carspaces\n",
    "carspace_lookup = (\n",
    "    data.groupby(['suburb', 'property_type', 'bedrooms', 'bathrooms'])['carspaces']\n",
    "    .mean()\n",
    "    .round(0)   # optional: round to 0 decimals\n",
    "    .to_dict()\n",
    ")"
   ]
  },
  {
   "cell_type": "code",
   "execution_count": 120,
   "id": "4feb34f6",
   "metadata": {},
   "outputs": [],
   "source": [
    "#Impute missing carspaces values\n",
    "for idx, row in data.iterrows():\n",
    "    if pd.isnull(row['carspaces']):\n",
    "        key = (row['suburb'], row['property_type'], row['bedrooms'], row['bathrooms'])\n",
    "        if key in carspace_lookup:  # only impute if lookup exists\n",
    "            data.at[idx, 'carspaces'] = carspace_lookup[key]"
   ]
  },
  {
   "cell_type": "code",
   "execution_count": 121,
   "id": "05c283c2",
   "metadata": {},
   "outputs": [
    {
     "name": "stdout",
     "output_type": "stream",
     "text": [
      "[('listing_id', np.int64(0)), ('suburb', np.int64(0)), ('postcode', np.int64(0)), ('weekly_rent', np.int64(0)), ('bond', np.int64(779)), ('available_date', np.int64(130)), ('date_listed', np.int64(4)), ('days_listed', np.int64(4)), ('bedrooms', np.int64(108)), ('bathrooms', np.int64(38)), ('carspaces', np.int64(458)), ('property_type', np.int64(0)), ('address', np.int64(104)), ('lat', np.int64(4)), ('lon', np.int64(4)), ('photo_count', np.int64(4)), ('video_count', np.int64(4)), ('floorplans_count', np.int64(4)), ('virtual_tour', np.int64(4)), ('primary_type', np.int64(4)), ('secondary_type', np.int64(4)), ('agency', np.int64(5)), ('agent_names', np.int64(244)), ('land_area', np.int64(12696)), ('num_metro_bus_stops', np.int64(0)), ('num_metro_tram_stops', np.int64(0)), ('num_metro_train_stops', np.int64(0)), ('num_regional_bus_stops', np.int64(0)), ('num_regional_train_stops', np.int64(0)), ('num_schools_2km', np.int64(0)), ('Median_age_persons', np.int64(4)), ('Median_mortgage_repay_monthly', np.int64(4)), ('Median_tot_prsnl_inc_weekly', np.int64(4)), ('Median_rent_weekly', np.int64(4)), ('Median_tot_fam_inc_weekly', np.int64(4)), ('Average_num_psns_per_bedroom', np.int64(4)), ('Median_tot_hhd_inc_weekly', np.int64(4)), ('Average_household_size', np.int64(4)), ('Owner occupied (%)', np.int64(4)), ('Mortgage (%)', np.int64(4)), ('Total rented (%)', np.int64(4)), ('Other tenure (%)', np.int64(4)), ('Unemployment', np.int64(4)), ('post_gradutae (%)', np.int64(4)), ('Graduate_diploma_certificate(%)', np.int64(4)), ('Bachelor (%)', np.int64(4)), ('Advanced_&_Diploma (%)', np.int64(4)), ('Certificate_level (%)', np.int64(4)), ('Total_persons', np.int64(4)), ('Population-2023', np.int64(0))]\n"
     ]
    }
   ],
   "source": [
    "#Check for missing values again\n",
    "missing_list = [(col, data[col].isnull().sum()) for col in data.columns]\n",
    "print(missing_list)"
   ]
  },
  {
   "cell_type": "code",
   "execution_count": 122,
   "id": "37415779",
   "metadata": {},
   "outputs": [],
   "source": [
    "#Impute average carspaces with relaxed contraints (without bathrooms) to fill rest of missing values\n",
    "# Create a lookup dictionary for average carspaces\n",
    "carspace_lookup = (\n",
    "    data.groupby(['property_type', 'bedrooms'])['carspaces']\n",
    "    .mean()\n",
    "    .round(0)   # optional: round to 0 decimals\n",
    "    .to_dict()\n",
    ")"
   ]
  },
  {
   "cell_type": "code",
   "execution_count": 123,
   "id": "f0ddced1",
   "metadata": {},
   "outputs": [],
   "source": [
    "#Impute missing carspaces values\n",
    "for idx, row in data.iterrows():\n",
    "    if pd.isnull(row['carspaces']):\n",
    "        key = ( row['property_type'], row['bedrooms'])\n",
    "        if key in carspace_lookup:  # only impute if lookup exists\n",
    "            data.at[idx, 'carspaces'] = carspace_lookup[key]"
   ]
  },
  {
   "cell_type": "code",
   "execution_count": 124,
   "id": "1d584fee",
   "metadata": {},
   "outputs": [
    {
     "name": "stdout",
     "output_type": "stream",
     "text": [
      "[('listing_id', np.int64(0)), ('suburb', np.int64(0)), ('postcode', np.int64(0)), ('weekly_rent', np.int64(0)), ('bond', np.int64(779)), ('available_date', np.int64(130)), ('date_listed', np.int64(4)), ('days_listed', np.int64(4)), ('bedrooms', np.int64(108)), ('bathrooms', np.int64(38)), ('carspaces', np.int64(73)), ('property_type', np.int64(0)), ('address', np.int64(104)), ('lat', np.int64(4)), ('lon', np.int64(4)), ('photo_count', np.int64(4)), ('video_count', np.int64(4)), ('floorplans_count', np.int64(4)), ('virtual_tour', np.int64(4)), ('primary_type', np.int64(4)), ('secondary_type', np.int64(4)), ('agency', np.int64(5)), ('agent_names', np.int64(244)), ('land_area', np.int64(12696)), ('num_metro_bus_stops', np.int64(0)), ('num_metro_tram_stops', np.int64(0)), ('num_metro_train_stops', np.int64(0)), ('num_regional_bus_stops', np.int64(0)), ('num_regional_train_stops', np.int64(0)), ('num_schools_2km', np.int64(0)), ('Median_age_persons', np.int64(4)), ('Median_mortgage_repay_monthly', np.int64(4)), ('Median_tot_prsnl_inc_weekly', np.int64(4)), ('Median_rent_weekly', np.int64(4)), ('Median_tot_fam_inc_weekly', np.int64(4)), ('Average_num_psns_per_bedroom', np.int64(4)), ('Median_tot_hhd_inc_weekly', np.int64(4)), ('Average_household_size', np.int64(4)), ('Owner occupied (%)', np.int64(4)), ('Mortgage (%)', np.int64(4)), ('Total rented (%)', np.int64(4)), ('Other tenure (%)', np.int64(4)), ('Unemployment', np.int64(4)), ('post_gradutae (%)', np.int64(4)), ('Graduate_diploma_certificate(%)', np.int64(4)), ('Bachelor (%)', np.int64(4)), ('Advanced_&_Diploma (%)', np.int64(4)), ('Certificate_level (%)', np.int64(4)), ('Total_persons', np.int64(4)), ('Population-2023', np.int64(0))]\n"
     ]
    }
   ],
   "source": [
    "#Check for missing values again\n",
    "missing_list = [(col, data[col].isnull().sum()) for col in data.columns]\n",
    "print(missing_list)"
   ]
  },
  {
   "cell_type": "code",
   "execution_count": 125,
   "id": "00045a10",
   "metadata": {},
   "outputs": [],
   "source": [
    "data = data.dropna(subset=['carspaces'])"
   ]
  }
 ],
 "metadata": {
  "kernelspec": {
   "display_name": "Python 3",
   "language": "python",
   "name": "python3"
  },
  "language_info": {
   "codemirror_mode": {
    "name": "ipython",
    "version": 3
   },
   "file_extension": ".py",
   "mimetype": "text/x-python",
   "name": "python",
   "nbconvert_exporter": "python",
   "pygments_lexer": "ipython3",
   "version": "3.12.10"
  }
 },
 "nbformat": 4,
 "nbformat_minor": 5
}
