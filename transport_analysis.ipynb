{
 "cells": [
  {
   "cell_type": "code",
   "execution_count": 25,
   "id": "fb951f0c",
   "metadata": {},
   "outputs": [],
   "source": [
    "import pandas as pd\n",
    "import numpy as np"
   ]
  },
  {
   "cell_type": "code",
   "execution_count": null,
   "id": "57c0a66f",
   "metadata": {},
   "outputs": [],
   "source": [
    "def find_num_stops_within_radius(property_lat, property_lon, stops_df, radius_km):\n",
    "    \"\"\"\n",
    "    Calculate the number of transport stops within a given radius (in km) of a property.\n",
    "    \n",
    "    Parameters:\n",
    "    property_lat (float): Latitude of the property\n",
    "    property_lon (float): Longitude of the property\n",
    "    stops_df (DataFrame): DataFrame containing transport stops with 'Latitude' and 'Longitude' columns\n",
    "    radius_km (float): Radius in kilometers\n",
    "    \n",
    "    Returns:\n",
    "    int: Number of stops within the specified radius\n",
    "    \"\"\"\n",
    "    # Haversine formula\n",
    "    lat_diff = np.radians(stops_df['Latitude'] - property_lat)\n",
    "    lon_diff = np.radians(stops_df['Longitude'] - property_lon)\n",
    "    \n",
    "    a = np.sin(lat_diff / 2)**2 + np.cos(np.radians(property_lat)) * np.cos(np.radians(stops_df['Latitude'])) * np.sin(lon_diff / 2)**2\n",
    "    c = 2 * np.arctan2(np.sqrt(a), np.sqrt(1 - a))\n",
    "    \n",
    "    distances_km = 6371 * c  # Earth radius in km\n",
    "\n",
    "    # Mask for rows within radius\n",
    "    mask = distances_km <= radius_km\n",
    "    stops_within_radius = stops_df[mask]\n",
    "    \n",
    "    # Print matching rows\n",
    "    # print(stops_within_radius)\n",
    "\n",
    "    return np.sum(mask)\n",
    "\n"
   ]
  },
  {
   "cell_type": "code",
   "execution_count": 27,
   "id": "1dae8ece",
   "metadata": {},
   "outputs": [],
   "source": [
    "# Test, my address longitude and latitude:\n",
    "test_lat = -37.662281\n",
    "test_long = 145.032432\n",
    "radius_km = 2\n",
    "\n",
    "data = pd.read_csv(\"data/processed/transport/transport_stops.csv\")\n",
    "metro_bus = data[data[\"StopType\"] == \"Metro Bus\"]\n",
    "metro_tram = data[data[\"StopType\"] == \"Metro Tram\"]\n",
    "metro_train = data[data[\"StopType\"] == \"Metro Train\"]\n",
    "regional_train = data[data[\"StopType\"] == \"Regional Train\"]\n",
    "regional_bus = data[data[\"StopType\"] == \"Regional Bus\"]"
   ]
  },
  {
   "cell_type": "code",
   "execution_count": 28,
   "id": "2b70fa19",
   "metadata": {},
   "outputs": [
    {
     "name": "stdout",
     "output_type": "stream",
     "text": [
      "                       StopName   StopType   Latitude   Longitude\n",
      "75            190 The Boulevard  Metro Bus -37.676068  145.032103\n",
      "87            207 The Boulevard  Metro Bus -37.676036  145.032354\n",
      "197                49 Burton St  Metro Bus -37.666958  145.030009\n",
      "251             82 Woolnough Dr  Metro Bus -37.659531  145.040747\n",
      "261             99 Woolnough Dr  Metro Bus -37.659506  145.040895\n",
      "...                         ...        ...        ...         ...\n",
      "11408   The Boulevard/Dalton Rd  Metro Bus -37.676082  145.030765\n",
      "11837   Valentine Ave/Dalton Rd  Metro Bus -37.678130  145.030416\n",
      "11838  Valentine Ave/Darebin Dr  Metro Bus -37.678669  145.035686\n",
      "12205       Wattle St/Dalton Rd  Metro Bus -37.678557  145.030031\n",
      "12256          Wedge St/High St  Metro Bus -37.650782  145.024400\n",
      "\n",
      "[110 rows x 4 columns]\n",
      "Empty DataFrame\n",
      "Columns: [StopName, StopType, Latitude, Longitude]\n",
      "Index: []\n",
      "                     StopName     StopType   Latitude   Longitude\n",
      "13956  Epping Railway Station  Metro Train -37.652178  145.031079\n",
      "13957          Epping Station  Metro Train -37.652179  145.031436\n",
      "14056   Lalor Railway Station  Metro Train -37.665851  145.017193\n",
      "14057           Lalor Station  Metro Train -37.665861  145.017278\n",
      "Empty DataFrame\n",
      "Columns: [StopName, StopType, Latitude, Longitude]\n",
      "Index: []\n",
      "Empty DataFrame\n",
      "Columns: [StopName, StopType, Latitude, Longitude]\n",
      "Index: []\n",
      "Number of metro bus stops within radius: 110\n",
      "Number of metro tram stops within radius: 0\n",
      "Number of metro train stops within radius: 4\n",
      "Number of regional train stops within radius: 0\n",
      "Number of regional bus stops within radius: 0\n"
     ]
    }
   ],
   "source": [
    "num_metro_bus_stops_within_radius = find_num_stops_within_radius(test_lat, test_long, metro_bus, radius_km)\n",
    "num_metro_tram_stops_within_radius = find_num_stops_within_radius(test_lat, test_long, metro_tram, radius_km)\n",
    "num_metro_train_stops_within_radius = find_num_stops_within_radius(test_lat, test_long, metro_train, radius_km)\n",
    "num_regional_train_stops_within_radius = find_num_stops_within_radius(test_lat, test_long, regional_train, radius_km)\n",
    "num_regional_bus_stops_within_radius = find_num_stops_within_radius(test_lat, test_long, regional_bus, radius_km)\n",
    "\n",
    "print(f\"Number of metro bus stops within radius: {num_metro_bus_stops_within_radius}\")\n",
    "print(f\"Number of metro tram stops within radius: {num_metro_tram_stops_within_radius}\")\n",
    "print(f\"Number of metro train stops within radius: {num_metro_train_stops_within_radius}\")\n",
    "print(f\"Number of regional train stops within radius: {num_regional_train_stops_within_radius}\")\n",
    "print(f\"Number of regional bus stops within radius: {num_regional_bus_stops_within_radius}\")"
   ]
  }
 ],
 "metadata": {
  "kernelspec": {
   "display_name": "Python 3",
   "language": "python",
   "name": "python3"
  },
  "language_info": {
   "codemirror_mode": {
    "name": "ipython",
    "version": 3
   },
   "file_extension": ".py",
   "mimetype": "text/x-python",
   "name": "python",
   "nbconvert_exporter": "python",
   "pygments_lexer": "ipython3",
   "version": "3.11.0"
  }
 },
 "nbformat": 4,
 "nbformat_minor": 5
}
