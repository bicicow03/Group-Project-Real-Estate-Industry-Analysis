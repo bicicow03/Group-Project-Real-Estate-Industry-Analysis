{
 "cells": [
  {
   "cell_type": "code",
   "execution_count": 108,
   "id": "7d828375",
   "metadata": {},
   "outputs": [],
   "source": [
    "import numpy as np\n",
    "import pandas as pd"
   ]
  },
  {
   "cell_type": "markdown",
   "id": "af886eaa",
   "metadata": {},
   "source": [
    "Data reading"
   ]
  },
  {
   "cell_type": "code",
   "execution_count": 109,
   "id": "dbaba11c",
   "metadata": {},
   "outputs": [],
   "source": [
    "metro_bus = pd.read_csv(\"data/raw/transport/metro_bus_stops.txt\")\n",
    "metro_tram = pd.read_csv(\"data/raw/transport/metro_tram_stops.txt\")\n",
    "metro_train = pd.read_csv(\"data/raw/transport/metro_train_stops.txt\")\n",
    "regional_train = pd.read_csv(\"data/raw/transport/regional_train_stops.txt\")\n",
    "regional_bus = pd.read_csv(\"data/raw/transport/regional_bus_stops.txt\")"
   ]
  },
  {
   "cell_type": "code",
   "execution_count": 110,
   "id": "ac99ab6f",
   "metadata": {},
   "outputs": [
    {
     "data": {
      "text/plain": [
       "(18781, 1634, 1058, 220, 6851)"
      ]
     },
     "execution_count": 110,
     "metadata": {},
     "output_type": "execute_result"
    }
   ],
   "source": [
    "len(metro_bus), len(metro_tram), len(metro_train), len(regional_train), len(regional_bus)"
   ]
  },
  {
   "cell_type": "markdown",
   "id": "d6175622",
   "metadata": {},
   "source": [
    "Feature selection"
   ]
  },
  {
   "cell_type": "code",
   "execution_count": 111,
   "id": "d9506312",
   "metadata": {},
   "outputs": [],
   "source": [
    "def feature_selection(df):\n",
    "    \"\"\"\n",
    "    Select only relevant columns: stop_name, stop_lat, stop_lon\n",
    "    \"\"\"\n",
    "    return df[['stop_name', 'stop_lat', 'stop_lon']]"
   ]
  },
  {
   "cell_type": "code",
   "execution_count": 112,
   "id": "8b97ec2a",
   "metadata": {},
   "outputs": [],
   "source": [
    "metro_bus = feature_selection(metro_bus)\n",
    "metro_tram = feature_selection(metro_tram)\n",
    "metro_train = feature_selection(metro_train)\n",
    "regional_train = feature_selection(regional_train)\n",
    "regional_bus = feature_selection(regional_bus)"
   ]
  },
  {
   "cell_type": "code",
   "execution_count": 113,
   "id": "8cf47246",
   "metadata": {},
   "outputs": [
    {
     "data": {
      "text/plain": [
       "(18781, 1634, 1058, 220, 6851)"
      ]
     },
     "execution_count": 113,
     "metadata": {},
     "output_type": "execute_result"
    }
   ],
   "source": [
    "len(metro_bus), len(metro_tram), len(metro_train), len(regional_train), len(regional_bus)"
   ]
  },
  {
   "cell_type": "markdown",
   "id": "e1a8d7ad",
   "metadata": {},
   "source": [
    "Data processing"
   ]
  },
  {
   "cell_type": "code",
   "execution_count": 114,
   "id": "a4a8a14d",
   "metadata": {},
   "outputs": [],
   "source": [
    "# For train stations, remove those that do not have \"Station\" in the name. Non stations include taxi zones, bus replacement stops, etc.\n",
    "metro_train = metro_train[metro_train['stop_name'].str.contains(\"Station\")]\n",
    "regional_train = regional_train[regional_train['stop_name'].str.contains(\"Station\")]"
   ]
  },
  {
   "cell_type": "markdown",
   "id": "b50f7551",
   "metadata": {},
   "source": [
    "Feature engineering\n",
    "\n",
    "Only require stops.txt data, i.e., location of each tram, bus, etc., stop\n",
    "\n",
    "This is because to answer our question, one of the covariates would be the number of public transport stops within X km of a property"
   ]
  },
  {
   "cell_type": "code",
   "execution_count": 115,
   "id": "0eb13270",
   "metadata": {},
   "outputs": [],
   "source": [
    "def feature_engineering(df):\n",
    "    \"\"\"\n",
    "    Some datasets (specifically train) have multiple locations for the same stop, e.g., flinder street station has 10 platforms, \n",
    "    diff platforms have different lat/longs. We want to only keep one row for each stop. \n",
    "    Thus, group by the stop name and take the mean lat/long. \n",
    "    \"\"\"\n",
    "    df_filtered = df.groupby('stop_name').agg({\n",
    "        'stop_lat': 'mean',\n",
    "        'stop_lon': 'mean'\n",
    "    }).reset_index()\n",
    "    return df_filtered"
   ]
  },
  {
   "cell_type": "code",
   "execution_count": 116,
   "id": "4638d69b",
   "metadata": {},
   "outputs": [],
   "source": [
    "metro_bus = feature_engineering(metro_bus)\n",
    "metro_tram = feature_engineering(metro_tram)\n",
    "metro_train = feature_engineering(metro_train)\n",
    "regional_train = feature_engineering(regional_train)\n",
    "regional_bus = feature_engineering(regional_bus)"
   ]
  },
  {
   "cell_type": "code",
   "execution_count": 117,
   "id": "6ec31a41",
   "metadata": {},
   "outputs": [
    {
     "data": {
      "text/plain": [
       "(12831, 999, 444, 219, 5387)"
      ]
     },
     "execution_count": 117,
     "metadata": {},
     "output_type": "execute_result"
    }
   ],
   "source": [
    "len(metro_bus), len(metro_tram), len(metro_train), len(regional_train), len(regional_bus)"
   ]
  },
  {
   "cell_type": "markdown",
   "id": "4bc6b714",
   "metadata": {},
   "source": [
    "Combine into 1 dataset for output"
   ]
  },
  {
   "cell_type": "code",
   "execution_count": 118,
   "id": "51169073",
   "metadata": {},
   "outputs": [],
   "source": [
    "metro_bus[\"StopType\"] = \"Metro Bus\"\n",
    "metro_tram[\"StopType\"] = \"Metro Tram\"\n",
    "metro_train[\"StopType\"] = \"Metro Train\"\n",
    "regional_train[\"StopType\"] = \"Regional Train\"\n",
    "regional_bus[\"StopType\"] = \"Regional Bus\"\n",
    "\n",
    "transport_stops = pd.concat([metro_bus, metro_tram, metro_train, regional_train, regional_bus], ignore_index=True)\n",
    "transport_stops.rename(columns={\"stop_name\": \"StopName\", \"stop_lat\": \"Latitude\", \"stop_lon\": \"Longitude\"}, inplace=True)\n",
    "transport_stops = transport_stops[[\"StopName\", \"StopType\", \"Latitude\", \"Longitude\"]]\n",
    "transport_stops.to_csv(\"data/processed/transport/transport_stops.csv\", index=False)"
   ]
  }
 ],
 "metadata": {
  "kernelspec": {
   "display_name": "Python 3",
   "language": "python",
   "name": "python3"
  },
  "language_info": {
   "codemirror_mode": {
    "name": "ipython",
    "version": 3
   },
   "file_extension": ".py",
   "mimetype": "text/x-python",
   "name": "python",
   "nbconvert_exporter": "python",
   "pygments_lexer": "ipython3",
   "version": "3.11.0"
  }
 },
 "nbformat": 4,
 "nbformat_minor": 5
}
